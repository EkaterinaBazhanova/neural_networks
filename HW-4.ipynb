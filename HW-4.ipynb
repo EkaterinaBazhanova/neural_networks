{
 "cells": [
  {
   "cell_type": "markdown",
   "metadata": {},
   "source": [
    "# Домашнее задание 3. Сверточные нейронные сети"
   ]
  },
  {
   "cell_type": "code",
   "execution_count": 1,
   "metadata": {},
   "outputs": [],
   "source": [
    "import keras\n",
    "import tensorflow as tf\n",
    "import numpy as np\n",
    "import pandas as pd\n",
    "\n",
    "from keras.datasets import cifar10\n",
    "import ssl\n",
    "ssl._create_default_https_context = ssl._create_unverified_context\n",
    "\n",
    "import matplotlib.pyplot as plt\n",
    "\n",
    "from keras.utils.np_utils import to_categorical\n",
    "from tensorflow.keras.utils import plot_model \n",
    "\n",
    "from tensorflow.keras.models import Sequential, Model\n",
    "from tensorflow.keras.layers import  Input, Conv2D, Activation, Dropout, Flatten, Dense\n",
    "from tensorflow.keras.layers import GlobalMaxPooling2D, MaxPooling2D, AveragePooling2D, GlobalAveragePooling2D \n",
    "\n",
    "from tensorflow.keras.losses import CategoricalCrossentropy, SparseCategoricalCrossentropy\n",
    "\n",
    "from keras import callbacks"
   ]
  },
  {
   "cell_type": "markdown",
   "metadata": {},
   "source": [
    "## Задание\n",
    "\n",
    "\n",
    "1. обучить рукописную сверточную нейронную сеть (с падением размера ядра свертки и последовательностью блоков свертка-пулинг (conv-pool)-(conv-pool)-...) на датасете cifar-10\n",
    "\n",
    "2. оценить рост точности при увеличении ширины сети (больше фильтров)\n",
    "\n",
    "3. оценить рост точности при увеличении глубины сети (больше слоев)\n",
    "\n",
    "4. *сравнить с точностью полносвязной сети для этой выборки"
   ]
  },
  {
   "cell_type": "markdown",
   "metadata": {},
   "source": [
    "## План решения"
   ]
  },
  {
   "cell_type": "markdown",
   "metadata": {},
   "source": [
    "[0. Загрузка данных](#section_0)\n",
    "\n",
    "[1. Подготовка данных](#section_1)\n",
    "\n",
    "[2. Рукописная сверточная нейронная сеть](#section_2)\n",
    "\n",
    "[3. Оценка роста точности нейронной сети при увеличении ширины (количества фильтров) сети](#section_3)\n",
    "\n",
    "[4. Оценка роста точности нейронной сети при увеличении глубины (количества слоев) сети](#section_4)\n",
    "    \n",
    "[5*. Полносвязная нейронная сеть](#section_5)\n",
    "\n",
    "[6. Выводы](#section_6)"
   ]
  },
  {
   "cell_type": "markdown",
   "metadata": {},
   "source": [
    "## 0. Загрузка данных<a id='section_0'></a>"
   ]
  },
  {
   "cell_type": "code",
   "execution_count": 2,
   "metadata": {},
   "outputs": [
    {
     "name": "stdout",
     "output_type": "stream",
     "text": [
      "X_train shape: (50000, 32, 32, 3)\n",
      "50000 тренировочные примеры\n",
      "10000 тестовые примеры\n"
     ]
    }
   ],
   "source": [
    "# загрузка тренировочных и тестовых данных\n",
    "\n",
    "(X_train, y_train), (X_test, y_test) = cifar10.load_data()\n",
    "print('X_train shape:', X_train.shape)\n",
    "print(X_train.shape[0], 'тренировочные примеры')\n",
    "print(X_test.shape[0], 'тестовые примеры')"
   ]
  },
  {
   "cell_type": "code",
   "execution_count": 3,
   "metadata": {},
   "outputs": [],
   "source": [
    "classes = ['airplane', 'automobile', 'bird', 'cat', 'deer', 'dog', 'frog', 'horse', 'ship', 'truck']"
   ]
  },
  {
   "cell_type": "code",
   "execution_count": 4,
   "metadata": {
    "scrolled": true
   },
   "outputs": [
    {
     "name": "stdout",
     "output_type": "stream",
     "text": [
      "Label is [0]\n"
     ]
    },
    {
     "data": {
      "image/png": "[encoded data removed]",
      "text/plain": [
       "<Figure size 432x288 with 1 Axes>"
      ]
     },
     "metadata": {
      "needs_background": "light"
     },
     "output_type": "display_data"
    }
   ],
   "source": [
    "ind = np.random.randint(0, X_train.shape[0])\n",
    "plt.imshow(X_train[ind], cmap='gray')\n",
    "print(f'Label is {y_train[ind]}')"
   ]
  },
  {
   "cell_type": "markdown",
   "metadata": {},
   "source": [
    "## 1. Подготовка данных<a id='section_1'></a>"
   ]
  },
  {
   "cell_type": "code",
   "execution_count": 5,
   "metadata": {},
   "outputs": [],
   "source": [
    "# установка параметров\n",
    "num_classes = 10\n",
    "num_predictions = 20\n",
    "model_name = 'keras_cifar10'"
   ]
  },
  {
   "cell_type": "code",
   "execution_count": 6,
   "metadata": {},
   "outputs": [
    {
     "data": {
      "text/plain": [
       "(0.0, 1.0)"
      ]
     },
     "execution_count": 6,
     "metadata": {},
     "output_type": "execute_result"
    }
   ],
   "source": [
    "# Нормировка\n",
    "X_train = X_train / 255.0\n",
    "X_test = X_test / 255.0\n",
    "\n",
    "X_train.min(), X_train.max()"
   ]
  },
  {
   "cell_type": "code",
   "execution_count": 7,
   "metadata": {},
   "outputs": [
    {
     "data": {
      "text/plain": [
       "array([[[[0.23137255, 0.24313725, 0.24705882],\n",
       "         [0.16862745, 0.18039216, 0.17647059],\n",
       "         [0.19607843, 0.18823529, 0.16862745],\n",
       "         ...,\n",
       "         [0.61960784, 0.51764706, 0.42352941],\n",
       "         [0.59607843, 0.49019608, 0.4       ],\n",
       "         [0.58039216, 0.48627451, 0.40392157]],\n",
       "\n",
       "        [[0.0627451 , 0.07843137, 0.07843137],\n",
       "         [0.        , 0.        , 0.        ],\n",
       "         [0.07058824, 0.03137255, 0.        ],\n",
       "         ...,\n",
       "         [0.48235294, 0.34509804, 0.21568627],\n",
       "         [0.46666667, 0.3254902 , 0.19607843],\n",
       "         [0.47843137, 0.34117647, 0.22352941]],\n",
       "\n",
       "        [[0.09803922, 0.09411765, 0.08235294],\n",
       "         [0.0627451 , 0.02745098, 0.        ],\n",
       "         [0.19215686, 0.10588235, 0.03137255],\n",
       "         ...,\n",
       "         [0.4627451 , 0.32941176, 0.19607843],\n",
       "         [0.47058824, 0.32941176, 0.19607843],\n",
       "         [0.42745098, 0.28627451, 0.16470588]],\n",
       "\n",
       "        ...,\n",
       "\n",
       "        [[0.81568627, 0.66666667, 0.37647059],\n",
       "         [0.78823529, 0.6       , 0.13333333],\n",
       "         [0.77647059, 0.63137255, 0.10196078],\n",
       "         ...,\n",
       "         [0.62745098, 0.52156863, 0.2745098 ],\n",
       "         [0.21960784, 0.12156863, 0.02745098],\n",
       "         [0.20784314, 0.13333333, 0.07843137]],\n",
       "\n",
       "        [[0.70588235, 0.54509804, 0.37647059],\n",
       "         [0.67843137, 0.48235294, 0.16470588],\n",
       "         [0.72941176, 0.56470588, 0.11764706],\n",
       "         ...,\n",
       "         [0.72156863, 0.58039216, 0.36862745],\n",
       "         [0.38039216, 0.24313725, 0.13333333],\n",
       "         [0.3254902 , 0.20784314, 0.13333333]],\n",
       "\n",
       "        [[0.69411765, 0.56470588, 0.45490196],\n",
       "         [0.65882353, 0.50588235, 0.36862745],\n",
       "         [0.70196078, 0.55686275, 0.34117647],\n",
       "         ...,\n",
       "         [0.84705882, 0.72156863, 0.54901961],\n",
       "         [0.59215686, 0.4627451 , 0.32941176],\n",
       "         [0.48235294, 0.36078431, 0.28235294]]],\n",
       "\n",
       "\n",
       "       [[[0.60392157, 0.69411765, 0.73333333],\n",
       "         [0.49411765, 0.5372549 , 0.53333333],\n",
       "         [0.41176471, 0.40784314, 0.37254902],\n",
       "         ...,\n",
       "         [0.35686275, 0.37254902, 0.27843137],\n",
       "         [0.34117647, 0.35294118, 0.27843137],\n",
       "         [0.30980392, 0.31764706, 0.2745098 ]],\n",
       "\n",
       "        [[0.54901961, 0.62745098, 0.6627451 ],\n",
       "         [0.56862745, 0.6       , 0.60392157],\n",
       "         [0.49019608, 0.49019608, 0.4627451 ],\n",
       "         ...,\n",
       "         [0.37647059, 0.38823529, 0.30588235],\n",
       "         [0.30196078, 0.31372549, 0.24313725],\n",
       "         [0.27843137, 0.28627451, 0.23921569]],\n",
       "\n",
       "        [[0.54901961, 0.60784314, 0.64313725],\n",
       "         [0.54509804, 0.57254902, 0.58431373],\n",
       "         [0.45098039, 0.45098039, 0.43921569],\n",
       "         ...,\n",
       "         [0.30980392, 0.32156863, 0.25098039],\n",
       "         [0.26666667, 0.2745098 , 0.21568627],\n",
       "         [0.2627451 , 0.27058824, 0.21568627]],\n",
       "\n",
       "        ...,\n",
       "\n",
       "        [[0.68627451, 0.65490196, 0.65098039],\n",
       "         [0.61176471, 0.60392157, 0.62745098],\n",
       "         [0.60392157, 0.62745098, 0.66666667],\n",
       "         ...,\n",
       "         [0.16470588, 0.13333333, 0.14117647],\n",
       "         [0.23921569, 0.20784314, 0.22352941],\n",
       "         [0.36470588, 0.3254902 , 0.35686275]],\n",
       "\n",
       "        [[0.64705882, 0.60392157, 0.50196078],\n",
       "         [0.61176471, 0.59607843, 0.50980392],\n",
       "         [0.62352941, 0.63137255, 0.55686275],\n",
       "         ...,\n",
       "         [0.40392157, 0.36470588, 0.37647059],\n",
       "         [0.48235294, 0.44705882, 0.47058824],\n",
       "         [0.51372549, 0.4745098 , 0.51372549]],\n",
       "\n",
       "        [[0.63921569, 0.58039216, 0.47058824],\n",
       "         [0.61960784, 0.58039216, 0.47843137],\n",
       "         [0.63921569, 0.61176471, 0.52156863],\n",
       "         ...,\n",
       "         [0.56078431, 0.52156863, 0.54509804],\n",
       "         [0.56078431, 0.5254902 , 0.55686275],\n",
       "         [0.56078431, 0.52156863, 0.56470588]]],\n",
       "\n",
       "\n",
       "       [[[1.        , 1.        , 1.        ],\n",
       "         [0.99215686, 0.99215686, 0.99215686],\n",
       "         [0.99215686, 0.99215686, 0.99215686],\n",
       "         ...,\n",
       "         [0.99215686, 0.99215686, 0.99215686],\n",
       "         [0.99215686, 0.99215686, 0.99215686],\n",
       "         [0.99215686, 0.99215686, 0.99215686]],\n",
       "\n",
       "        [[1.        , 1.        , 1.        ],\n",
       "         [1.        , 1.        , 1.        ],\n",
       "         [1.        , 1.        , 1.        ],\n",
       "         ...,\n",
       "         [1.        , 1.        , 1.        ],\n",
       "         [1.        , 1.        , 1.        ],\n",
       "         [1.        , 1.        , 1.        ]],\n",
       "\n",
       "        [[1.        , 1.        , 1.        ],\n",
       "         [0.99607843, 0.99607843, 0.99607843],\n",
       "         [0.99607843, 0.99607843, 0.99607843],\n",
       "         ...,\n",
       "         [0.99607843, 0.99607843, 0.99607843],\n",
       "         [0.99607843, 0.99607843, 0.99607843],\n",
       "         [0.99607843, 0.99607843, 0.99607843]],\n",
       "\n",
       "        ...,\n",
       "\n",
       "        [[0.44313725, 0.47058824, 0.43921569],\n",
       "         [0.43529412, 0.4627451 , 0.43529412],\n",
       "         [0.41176471, 0.43921569, 0.41568627],\n",
       "         ...,\n",
       "         [0.28235294, 0.31764706, 0.31372549],\n",
       "         [0.28235294, 0.31372549, 0.30980392],\n",
       "         [0.28235294, 0.31372549, 0.30980392]],\n",
       "\n",
       "        [[0.43529412, 0.4627451 , 0.43137255],\n",
       "         [0.40784314, 0.43529412, 0.40784314],\n",
       "         [0.38823529, 0.41568627, 0.38431373],\n",
       "         ...,\n",
       "         [0.26666667, 0.29411765, 0.28627451],\n",
       "         [0.2745098 , 0.29803922, 0.29411765],\n",
       "         [0.30588235, 0.32941176, 0.32156863]],\n",
       "\n",
       "        [[0.41568627, 0.44313725, 0.41176471],\n",
       "         [0.38823529, 0.41568627, 0.38431373],\n",
       "         [0.37254902, 0.4       , 0.36862745],\n",
       "         ...,\n",
       "         [0.30588235, 0.33333333, 0.3254902 ],\n",
       "         [0.30980392, 0.33333333, 0.3254902 ],\n",
       "         [0.31372549, 0.3372549 , 0.32941176]]],\n",
       "\n",
       "\n",
       "       ...,\n",
       "\n",
       "\n",
       "       [[[0.1372549 , 0.69803922, 0.92156863],\n",
       "         [0.15686275, 0.69019608, 0.9372549 ],\n",
       "         [0.16470588, 0.69019608, 0.94509804],\n",
       "         ...,\n",
       "         [0.38823529, 0.69411765, 0.85882353],\n",
       "         [0.30980392, 0.57647059, 0.77254902],\n",
       "         [0.34901961, 0.58039216, 0.74117647]],\n",
       "\n",
       "        [[0.22352941, 0.71372549, 0.91764706],\n",
       "         [0.17254902, 0.72156863, 0.98039216],\n",
       "         [0.19607843, 0.71764706, 0.94117647],\n",
       "         ...,\n",
       "         [0.61176471, 0.71372549, 0.78431373],\n",
       "         [0.55294118, 0.69411765, 0.80784314],\n",
       "         [0.45490196, 0.58431373, 0.68627451]],\n",
       "\n",
       "        [[0.38431373, 0.77254902, 0.92941176],\n",
       "         [0.25098039, 0.74117647, 0.98823529],\n",
       "         [0.27058824, 0.75294118, 0.96078431],\n",
       "         ...,\n",
       "         [0.7372549 , 0.76470588, 0.80784314],\n",
       "         [0.46666667, 0.52941176, 0.57647059],\n",
       "         [0.23921569, 0.30980392, 0.35294118]],\n",
       "\n",
       "        ...,\n",
       "\n",
       "        [[0.28627451, 0.30980392, 0.30196078],\n",
       "         [0.20784314, 0.24705882, 0.26666667],\n",
       "         [0.21176471, 0.26666667, 0.31372549],\n",
       "         ...,\n",
       "         [0.06666667, 0.15686275, 0.25098039],\n",
       "         [0.08235294, 0.14117647, 0.2       ],\n",
       "         [0.12941176, 0.18823529, 0.19215686]],\n",
       "\n",
       "        [[0.23921569, 0.26666667, 0.29411765],\n",
       "         [0.21568627, 0.2745098 , 0.3372549 ],\n",
       "         [0.22352941, 0.30980392, 0.40392157],\n",
       "         ...,\n",
       "         [0.09411765, 0.18823529, 0.28235294],\n",
       "         [0.06666667, 0.1372549 , 0.20784314],\n",
       "         [0.02745098, 0.09019608, 0.1254902 ]],\n",
       "\n",
       "        [[0.17254902, 0.21960784, 0.28627451],\n",
       "         [0.18039216, 0.25882353, 0.34509804],\n",
       "         [0.19215686, 0.30196078, 0.41176471],\n",
       "         ...,\n",
       "         [0.10588235, 0.20392157, 0.30196078],\n",
       "         [0.08235294, 0.16862745, 0.25882353],\n",
       "         [0.04705882, 0.12156863, 0.19607843]]],\n",
       "\n",
       "\n",
       "       [[[0.74117647, 0.82745098, 0.94117647],\n",
       "         [0.72941176, 0.81568627, 0.9254902 ],\n",
       "         [0.7254902 , 0.81176471, 0.92156863],\n",
       "         ...,\n",
       "         [0.68627451, 0.76470588, 0.87843137],\n",
       "         [0.6745098 , 0.76078431, 0.87058824],\n",
       "         [0.6627451 , 0.76078431, 0.8627451 ]],\n",
       "\n",
       "        [[0.76078431, 0.82352941, 0.9372549 ],\n",
       "         [0.74901961, 0.81176471, 0.9254902 ],\n",
       "         [0.74509804, 0.80784314, 0.92156863],\n",
       "         ...,\n",
       "         [0.67843137, 0.75294118, 0.8627451 ],\n",
       "         [0.67058824, 0.74901961, 0.85490196],\n",
       "         [0.65490196, 0.74509804, 0.84705882]],\n",
       "\n",
       "        [[0.81568627, 0.85882353, 0.95686275],\n",
       "         [0.80392157, 0.84705882, 0.94117647],\n",
       "         [0.8       , 0.84313725, 0.9372549 ],\n",
       "         ...,\n",
       "         [0.68627451, 0.74901961, 0.85098039],\n",
       "         [0.6745098 , 0.74509804, 0.84705882],\n",
       "         [0.6627451 , 0.74901961, 0.84313725]],\n",
       "\n",
       "        ...,\n",
       "\n",
       "        [[0.81176471, 0.78039216, 0.70980392],\n",
       "         [0.79607843, 0.76470588, 0.68627451],\n",
       "         [0.79607843, 0.76862745, 0.67843137],\n",
       "         ...,\n",
       "         [0.52941176, 0.51764706, 0.49803922],\n",
       "         [0.63529412, 0.61960784, 0.58823529],\n",
       "         [0.65882353, 0.63921569, 0.59215686]],\n",
       "\n",
       "        [[0.77647059, 0.74509804, 0.66666667],\n",
       "         [0.74117647, 0.70980392, 0.62352941],\n",
       "         [0.70588235, 0.6745098 , 0.57647059],\n",
       "         ...,\n",
       "         [0.69803922, 0.67058824, 0.62745098],\n",
       "         [0.68627451, 0.6627451 , 0.61176471],\n",
       "         [0.68627451, 0.6627451 , 0.60392157]],\n",
       "\n",
       "        [[0.77647059, 0.74117647, 0.67843137],\n",
       "         [0.74117647, 0.70980392, 0.63529412],\n",
       "         [0.69803922, 0.66666667, 0.58431373],\n",
       "         ...,\n",
       "         [0.76470588, 0.72156863, 0.6627451 ],\n",
       "         [0.76862745, 0.74117647, 0.67058824],\n",
       "         [0.76470588, 0.74509804, 0.67058824]]],\n",
       "\n",
       "\n",
       "       [[[0.89803922, 0.89803922, 0.9372549 ],\n",
       "         [0.9254902 , 0.92941176, 0.96862745],\n",
       "         [0.91764706, 0.9254902 , 0.96862745],\n",
       "         ...,\n",
       "         [0.85098039, 0.85882353, 0.91372549],\n",
       "         [0.86666667, 0.8745098 , 0.91764706],\n",
       "         [0.87058824, 0.8745098 , 0.91372549]],\n",
       "\n",
       "        [[0.87058824, 0.86666667, 0.89803922],\n",
       "         [0.9372549 , 0.9372549 , 0.97647059],\n",
       "         [0.91372549, 0.91764706, 0.96470588],\n",
       "         ...,\n",
       "         [0.8745098 , 0.8745098 , 0.9254902 ],\n",
       "         [0.89019608, 0.89411765, 0.93333333],\n",
       "         [0.82352941, 0.82745098, 0.8627451 ]],\n",
       "\n",
       "        [[0.83529412, 0.80784314, 0.82745098],\n",
       "         [0.91764706, 0.90980392, 0.9372549 ],\n",
       "         [0.90588235, 0.91372549, 0.95686275],\n",
       "         ...,\n",
       "         [0.8627451 , 0.8627451 , 0.90980392],\n",
       "         [0.8627451 , 0.85882353, 0.90980392],\n",
       "         [0.79215686, 0.79607843, 0.84313725]],\n",
       "\n",
       "        ...,\n",
       "\n",
       "        [[0.58823529, 0.56078431, 0.52941176],\n",
       "         [0.54901961, 0.52941176, 0.49803922],\n",
       "         [0.51764706, 0.49803922, 0.47058824],\n",
       "         ...,\n",
       "         [0.87843137, 0.87058824, 0.85490196],\n",
       "         [0.90196078, 0.89411765, 0.88235294],\n",
       "         [0.94509804, 0.94509804, 0.93333333]],\n",
       "\n",
       "        [[0.5372549 , 0.51764706, 0.49411765],\n",
       "         [0.50980392, 0.49803922, 0.47058824],\n",
       "         [0.49019608, 0.4745098 , 0.45098039],\n",
       "         ...,\n",
       "         [0.70980392, 0.70588235, 0.69803922],\n",
       "         [0.79215686, 0.78823529, 0.77647059],\n",
       "         [0.83137255, 0.82745098, 0.81176471]],\n",
       "\n",
       "        [[0.47843137, 0.46666667, 0.44705882],\n",
       "         [0.4627451 , 0.45490196, 0.43137255],\n",
       "         [0.47058824, 0.45490196, 0.43529412],\n",
       "         ...,\n",
       "         [0.70196078, 0.69411765, 0.67843137],\n",
       "         [0.64313725, 0.64313725, 0.63529412],\n",
       "         [0.63921569, 0.63921569, 0.63137255]]]])"
      ]
     },
     "execution_count": 7,
     "metadata": {},
     "output_type": "execute_result"
    }
   ],
   "source": [
    "X_train"
   ]
  },
  {
   "cell_type": "code",
   "execution_count": 8,
   "metadata": {},
   "outputs": [
    {
     "data": {
      "text/plain": [
       "((50000, 10), (10000, 10))"
      ]
     },
     "execution_count": 8,
     "metadata": {},
     "output_type": "execute_result"
    }
   ],
   "source": [
    "# преобразование меток класса к категориальному типу\n",
    "y_train = to_categorical(y_train, num_classes)\n",
    "y_test = to_categorical(y_test, num_classes)\n",
    "\n",
    "y_train.shape, y_test.shape"
   ]
  },
  {
   "cell_type": "code",
   "execution_count": 9,
   "metadata": {
    "scrolled": true
   },
   "outputs": [
    {
     "data": {
      "text/plain": [
       "array([[0., 0., 0., 0., 0., 0., 1., 0., 0., 0.],\n",
       "       [0., 0., 0., 0., 0., 0., 0., 0., 0., 1.],\n",
       "       [0., 0., 0., 0., 0., 0., 0., 0., 0., 1.],\n",
       "       [0., 0., 0., 0., 1., 0., 0., 0., 0., 0.],\n",
       "       [0., 1., 0., 0., 0., 0., 0., 0., 0., 0.]], dtype=float32)"
      ]
     },
     "execution_count": 9,
     "metadata": {},
     "output_type": "execute_result"
    }
   ],
   "source": [
    "y_train[:5]"
   ]
  },
  {
   "cell_type": "markdown",
   "metadata": {},
   "source": [
    "## 2. Рукописная сверточная нейронная сеть<a id='section_2'></a>"
   ]
  },
  {
   "cell_type": "code",
   "execution_count": 10,
   "metadata": {},
   "outputs": [],
   "source": [
    "#параметры сети\n",
    "batch_size = 16\n",
    "epochs = 20"
   ]
  },
  {
   "cell_type": "code",
   "execution_count": 11,
   "metadata": {},
   "outputs": [
    {
     "name": "stdout",
     "output_type": "stream",
     "text": [
      "Model: \"sequential\"\n",
      "_________________________________________________________________\n",
      " Layer (type)                Output Shape              Param #   \n",
      "=================================================================\n",
      " conv2d (Conv2D)             (None, 32, 32, 32)        896       \n",
      "                                                                 \n",
      " activation (Activation)     (None, 32, 32, 32)        0         \n",
      "                                                                 \n",
      " conv2d_1 (Conv2D)           (None, 30, 30, 32)        9248      \n",
      "                                                                 \n",
      " activation_1 (Activation)   (None, 30, 30, 32)        0         \n",
      "                                                                 \n",
      " max_pooling2d (MaxPooling2D  (None, 15, 15, 32)       0         \n",
      " )                                                               \n",
      "                                                                 \n",
      " dropout (Dropout)           (None, 15, 15, 32)        0         \n",
      "                                                                 \n",
      " conv2d_2 (Conv2D)           (None, 15, 15, 64)        18496     \n",
      "                                                                 \n",
      " activation_2 (Activation)   (None, 15, 15, 64)        0         \n",
      "                                                                 \n",
      " conv2d_3 (Conv2D)           (None, 13, 13, 64)        36928     \n",
      "                                                                 \n",
      " activation_3 (Activation)   (None, 13, 13, 64)        0         \n",
      "                                                                 \n",
      " max_pooling2d_1 (MaxPooling  (None, 6, 6, 64)         0         \n",
      " 2D)                                                             \n",
      "                                                                 \n",
      " dropout_1 (Dropout)         (None, 6, 6, 64)          0         \n",
      "                                                                 \n",
      " flatten (Flatten)           (None, 2304)              0         \n",
      "                                                                 \n",
      " dense (Dense)               (None, 512)               1180160   \n",
      "                                                                 \n",
      " activation_4 (Activation)   (None, 512)               0         \n",
      "                                                                 \n",
      " dropout_2 (Dropout)         (None, 512)               0         \n",
      "                                                                 \n",
      " dense_1 (Dense)             (None, 10)                5130      \n",
      "                                                                 \n",
      " activation_5 (Activation)   (None, 10)                0         \n",
      "                                                                 \n",
      "=================================================================\n",
      "Total params: 1,250,858\n",
      "Trainable params: 1,250,858\n",
      "Non-trainable params: 0\n",
      "_________________________________________________________________\n"
     ]
    }
   ],
   "source": [
    "# инициализация модели\n",
    "model = Sequential()\n",
    "\n",
    "# слои нейросети отвественные за свертку и max-pooling\n",
    "#сверточный слой\n",
    "model.add(Conv2D(32, #количество фильтров\n",
    "                 (3, 3), #размер фильтра\n",
    "                 padding='same', #рамка\n",
    "                 input_shape=X_train.shape[1:]))\n",
    "model.add(Activation('relu')) #применяется к матрице-свертке\n",
    "#сверточный слой\n",
    "model.add(Conv2D(32, (3, 3)))\n",
    "model.add(Activation('relu'))\n",
    "#пуллинг слой\n",
    "model.add(MaxPooling2D(pool_size=(2, 2))) #размер фильтра пуллинга (подвыборки) с оператором max\n",
    "model.add(Dropout(0.25)) #доля входных блоков для исключения при обучении\n",
    "\n",
    "#сверточный слой\n",
    "model.add(Conv2D(64, (3, 3), padding='same'))\n",
    "model.add(Activation('relu'))\n",
    "#сверточный слой\n",
    "model.add(Conv2D(64, (3, 3)))\n",
    "model.add(Activation('relu'))\n",
    "#пуллинг слой\n",
    "model.add(MaxPooling2D(pool_size=(2, 2)))\n",
    "model.add(Dropout(0.25))\n",
    "\n",
    "# полносвязные слои нейронной сети\n",
    "model.add(Flatten()) \n",
    "model.add(Dense(512))\n",
    "model.add(Activation('relu'))\n",
    "model.add(Dropout(0.5))\n",
    "model.add(Dense(num_classes))\n",
    "model.add(Activation('softmax'))\n",
    "\n",
    "model.summary()\n",
    "\n",
    "# компиляция модели\n",
    "model.compile(loss='categorical_crossentropy',\n",
    "              optimizer='SGD',\n",
    "              metrics=['accuracy'])"
   ]
  },
  {
   "cell_type": "code",
   "execution_count": 12,
   "metadata": {},
   "outputs": [
    {
     "name": "stdout",
     "output_type": "stream",
     "text": [
      "Epoch 1/20\n",
      "3125/3125 [==============================] - 121s 39ms/step - loss: 1.9661 - accuracy: 0.2715 - val_loss: 1.6247 - val_accuracy: 0.4139\n",
      "Epoch 2/20\n",
      "3125/3125 [==============================] - 120s 38ms/step - loss: 1.5973 - accuracy: 0.4163 - val_loss: 1.4359 - val_accuracy: 0.4686\n",
      "Epoch 3/20\n",
      "3125/3125 [==============================] - 120s 38ms/step - loss: 1.4209 - accuracy: 0.4846 - val_loss: 1.3766 - val_accuracy: 0.5121\n",
      "Epoch 4/20\n",
      "3125/3125 [==============================] - 119s 38ms/step - loss: 1.3037 - accuracy: 0.5334 - val_loss: 1.2320 - val_accuracy: 0.5610\n",
      "Epoch 5/20\n",
      "3125/3125 [==============================] - 119s 38ms/step - loss: 1.2177 - accuracy: 0.5652 - val_loss: 1.1058 - val_accuracy: 0.6099\n",
      "Epoch 6/20\n",
      "3125/3125 [==============================] - 119s 38ms/step - loss: 1.1382 - accuracy: 0.5942 - val_loss: 1.0402 - val_accuracy: 0.6320\n",
      "Epoch 7/20\n",
      "3125/3125 [==============================] - 119s 38ms/step - loss: 1.0662 - accuracy: 0.6229 - val_loss: 0.9894 - val_accuracy: 0.6484\n",
      "Epoch 8/20\n",
      "3125/3125 [==============================] - 119s 38ms/step - loss: 1.0081 - accuracy: 0.6441 - val_loss: 0.9080 - val_accuracy: 0.6787\n",
      "Epoch 9/20\n",
      "3125/3125 [==============================] - 119s 38ms/step - loss: 0.9494 - accuracy: 0.6652 - val_loss: 0.8868 - val_accuracy: 0.6903\n",
      "Epoch 10/20\n",
      "3125/3125 [==============================] - 119s 38ms/step - loss: 0.9022 - accuracy: 0.6818 - val_loss: 0.8162 - val_accuracy: 0.7171\n",
      "Epoch 11/20\n",
      "3125/3125 [==============================] - 119s 38ms/step - loss: 0.8598 - accuracy: 0.6958 - val_loss: 0.8009 - val_accuracy: 0.7178\n",
      "Epoch 12/20\n",
      "3125/3125 [==============================] - 119s 38ms/step - loss: 0.8190 - accuracy: 0.7120 - val_loss: 0.7580 - val_accuracy: 0.7350\n",
      "Epoch 13/20\n",
      "3125/3125 [==============================] - 119s 38ms/step - loss: 0.7867 - accuracy: 0.7229 - val_loss: 0.7562 - val_accuracy: 0.7341\n",
      "Epoch 14/20\n",
      "3125/3125 [==============================] - 119s 38ms/step - loss: 0.7527 - accuracy: 0.7348 - val_loss: 0.7407 - val_accuracy: 0.7428\n",
      "Epoch 15/20\n",
      "3125/3125 [==============================] - 119s 38ms/step - loss: 0.7215 - accuracy: 0.7433 - val_loss: 0.6900 - val_accuracy: 0.7608\n",
      "Epoch 16/20\n",
      "3125/3125 [==============================] - 119s 38ms/step - loss: 0.6968 - accuracy: 0.7550 - val_loss: 0.6851 - val_accuracy: 0.7638\n",
      "Epoch 17/20\n",
      "3125/3125 [==============================] - 119s 38ms/step - loss: 0.6777 - accuracy: 0.7619 - val_loss: 0.6714 - val_accuracy: 0.7699\n",
      "Epoch 18/20\n",
      "3125/3125 [==============================] - 119s 38ms/step - loss: 0.6546 - accuracy: 0.7706 - val_loss: 0.6729 - val_accuracy: 0.7677\n",
      "Epoch 19/20\n",
      "3125/3125 [==============================] - 119s 38ms/step - loss: 0.6296 - accuracy: 0.7784 - val_loss: 0.6426 - val_accuracy: 0.7789\n",
      "Epoch 20/20\n",
      "3125/3125 [==============================] - 119s 38ms/step - loss: 0.6156 - accuracy: 0.7829 - val_loss: 0.6204 - val_accuracy: 0.7858\n",
      "313/313 [==============================] - 4s 12ms/step - loss: 0.6204 - accuracy: 0.7858\n",
      "Test loss 0.6204, accuracy 0.79%\n",
      "Wall time: 39min 52s\n"
     ]
    }
   ],
   "source": [
    "%%time\n",
    "\n",
    "#обучение модели\n",
    "hist = model.fit(X_train, y_train,\n",
    "                 epochs=epochs,\n",
    "                 batch_size=batch_size,\n",
    "                 validation_data=(X_test, y_test),\n",
    "                 verbose=1)\n",
    "\n",
    "#метрики модели\n",
    "test_loss, test_metric = model.evaluate(X_test, y_test)\n",
    "print(f\"Test loss {test_loss:.4f}, accuracy {test_metric:.2f}%\")"
   ]
  },
  {
   "cell_type": "code",
   "execution_count": 13,
   "metadata": {},
   "outputs": [
    {
     "data": {
      "text/plain": [
       "(0.7829200029373169, 0.7857999801635742)"
      ]
     },
     "execution_count": 13,
     "metadata": {},
     "output_type": "execute_result"
    }
   ],
   "source": [
    "#оценка качества модели\n",
    "train_accuracy = hist.history['accuracy'][-1]\n",
    "test_accuracy = hist.history['val_accuracy'][-1]\n",
    "\n",
    "train_accuracy, test_accuracy"
   ]
  },
  {
   "cell_type": "code",
   "execution_count": 14,
   "metadata": {},
   "outputs": [
    {
     "data": {
      "text/html": [
       "<div>\n",
       "<style scoped>\n",
       "    .dataframe tbody tr th:only-of-type {\n",
       "        vertical-align: middle;\n",
       "    }\n",
       "\n",
       "    .dataframe tbody tr th {\n",
       "        vertical-align: top;\n",
       "    }\n",
       "\n",
       "    .dataframe thead th {\n",
       "        text-align: right;\n",
       "    }\n",
       "</style>\n",
       "<table border=\"1\" class=\"dataframe\">\n",
       "  <thead>\n",
       "    <tr style=\"text-align: right;\">\n",
       "      <th></th>\n",
       "      <th>Model</th>\n",
       "      <th>Train accuracy</th>\n",
       "      <th>Test accuracy</th>\n",
       "    </tr>\n",
       "  </thead>\n",
       "  <tbody>\n",
       "    <tr>\n",
       "      <th>0</th>\n",
       "      <td>CNN</td>\n",
       "      <td>0.78292</td>\n",
       "      <td>0.7858</td>\n",
       "    </tr>\n",
       "  </tbody>\n",
       "</table>\n",
       "</div>"
      ],
      "text/plain": [
       "  Model  Train accuracy  Test accuracy\n",
       "0   CNN         0.78292         0.7858"
      ]
     },
     "execution_count": 14,
     "metadata": {},
     "output_type": "execute_result"
    }
   ],
   "source": [
    "#датафрейм с метриками\n",
    "CNN_result = pd.DataFrame({'Model': ['CNN'], \n",
    "                           'Train accuracy': [train_accuracy], \n",
    "                           'Test accuracy': [test_accuracy]})\n",
    "\n",
    "CNN_result"
   ]
  },
  {
   "cell_type": "markdown",
   "metadata": {},
   "source": [
    "**Вывод:** \n",
    "\n",
    "1) обучение модели занимает большое время (требуются небольшие количества эпох и батчей), \n",
    "\n",
    "2) метрика на валидации растет не монотонно,\n",
    "\n",
    "3) модель легко переобучается, требуется длительная настройка параметров сети."
   ]
  },
  {
   "cell_type": "markdown",
   "metadata": {},
   "source": [
    "## 3. Оценка роста точности нейронной сети при увеличении ширины (количества фильтров) сети <a id='section_3'></a>"
   ]
  },
  {
   "cell_type": "markdown",
   "metadata": {},
   "source": [
    "Увеличим число фильтров нa сверточных слоях модели из пункта 2 в два раза"
   ]
  },
  {
   "cell_type": "code",
   "execution_count": 15,
   "metadata": {},
   "outputs": [],
   "source": [
    "# инициализация модели\n",
    "model2 = Sequential()\n",
    "\n",
    "# слои нейросети отвественные за свертку и max-pooling\n",
    "#сверточный слой\n",
    "model2.add(Conv2D(64, (3, 3), padding='same', input_shape=X_train.shape[1:]))\n",
    "model2.add(Activation('relu')) \n",
    "#сверточный слой\n",
    "model2.add(Conv2D(64, (3, 3)))\n",
    "model2.add(Activation('relu'))\n",
    "#пулинг(подвыбока)-слой\n",
    "model2.add(MaxPooling2D(pool_size=(2, 2))) \n",
    "model2.add(Dropout(0.25)) \n",
    "\n",
    "#сверточный слой\n",
    "model2.add(Conv2D(128, (3, 3), padding='same'))\n",
    "model2.add(Activation('relu'))\n",
    "#сверточный слой\n",
    "model2.add(Conv2D(128, (3, 3)))\n",
    "model2.add(Activation('relu'))\n",
    "#пуллинг слой\n",
    "model2.add(MaxPooling2D(pool_size=(2, 2)))\n",
    "model2.add(Dropout(0.25))\n",
    "\n",
    "# полносвязные слои нейронной сети\n",
    "model2.add(Flatten())\n",
    "model2.add(Dense(512))\n",
    "model2.add(Activation('relu'))\n",
    "model2.add(Dropout(0.5))\n",
    "model2.add(Dense(num_classes))\n",
    "model2.add(Activation('softmax'))\n",
    "\n",
    "# компиляция модели\n",
    "model2.compile(loss='categorical_crossentropy',\n",
    "              optimizer='SGD',\n",
    "              metrics=['accuracy'])"
   ]
  },
  {
   "cell_type": "code",
   "execution_count": 16,
   "metadata": {},
   "outputs": [
    {
     "name": "stdout",
     "output_type": "stream",
     "text": [
      "Epoch 1/20\n",
      "3125/3125 [==============================] - 253s 81ms/step - loss: 1.9572 - accuracy: 0.2801 - val_loss: 1.7048 - val_accuracy: 0.3721\n",
      "Epoch 2/20\n",
      "3125/3125 [==============================] - 249s 80ms/step - loss: 1.5683 - accuracy: 0.4300 - val_loss: 1.3527 - val_accuracy: 0.5115\n",
      "Epoch 3/20\n",
      "3125/3125 [==============================] - 253s 81ms/step - loss: 1.3567 - accuracy: 0.5093 - val_loss: 1.1929 - val_accuracy: 0.5744\n",
      "Epoch 4/20\n",
      "3125/3125 [==============================] - 257s 82ms/step - loss: 1.2213 - accuracy: 0.5654 - val_loss: 1.0862 - val_accuracy: 0.6115\n",
      "Epoch 5/20\n",
      "3125/3125 [==============================] - 256s 82ms/step - loss: 1.1145 - accuracy: 0.6049 - val_loss: 1.0056 - val_accuracy: 0.6465\n",
      "Epoch 6/20\n",
      "3125/3125 [==============================] - 253s 81ms/step - loss: 1.0295 - accuracy: 0.6343 - val_loss: 0.9306 - val_accuracy: 0.6742\n",
      "Epoch 7/20\n",
      "3125/3125 [==============================] - 255s 82ms/step - loss: 0.9538 - accuracy: 0.6620 - val_loss: 0.8664 - val_accuracy: 0.6950\n",
      "Epoch 8/20\n",
      "3125/3125 [==============================] - 252s 81ms/step - loss: 0.8871 - accuracy: 0.6885 - val_loss: 0.8144 - val_accuracy: 0.7152\n",
      "Epoch 9/20\n",
      "3125/3125 [==============================] - 258s 83ms/step - loss: 0.8301 - accuracy: 0.7094 - val_loss: 0.7977 - val_accuracy: 0.7234\n",
      "Epoch 10/20\n",
      "3125/3125 [==============================] - 253s 81ms/step - loss: 0.7802 - accuracy: 0.7266 - val_loss: 0.7311 - val_accuracy: 0.7482\n",
      "Epoch 11/20\n",
      "3125/3125 [==============================] - 253s 81ms/step - loss: 0.7280 - accuracy: 0.7426 - val_loss: 0.7853 - val_accuracy: 0.7270\n",
      "Epoch 12/20\n",
      "3125/3125 [==============================] - 253s 81ms/step - loss: 0.6849 - accuracy: 0.7566 - val_loss: 0.6977 - val_accuracy: 0.7586\n",
      "Epoch 13/20\n",
      "3125/3125 [==============================] - 253s 81ms/step - loss: 0.6508 - accuracy: 0.7709 - val_loss: 0.6855 - val_accuracy: 0.7630\n",
      "Epoch 14/20\n",
      "3125/3125 [==============================] - 252s 81ms/step - loss: 0.6143 - accuracy: 0.7821 - val_loss: 0.6459 - val_accuracy: 0.7763\n",
      "Epoch 15/20\n",
      "3125/3125 [==============================] - 253s 81ms/step - loss: 0.5789 - accuracy: 0.7964 - val_loss: 0.6514 - val_accuracy: 0.7750\n",
      "Epoch 16/20\n",
      "3125/3125 [==============================] - 253s 81ms/step - loss: 0.5496 - accuracy: 0.8049 - val_loss: 0.6160 - val_accuracy: 0.7894\n",
      "Epoch 17/20\n",
      "3125/3125 [==============================] - 250s 80ms/step - loss: 0.5223 - accuracy: 0.8139 - val_loss: 0.6193 - val_accuracy: 0.7889\n",
      "Epoch 18/20\n",
      "3125/3125 [==============================] - 244s 78ms/step - loss: 0.4950 - accuracy: 0.8234 - val_loss: 0.6338 - val_accuracy: 0.7834\n",
      "Epoch 19/20\n",
      "3125/3125 [==============================] - 243s 78ms/step - loss: 0.4663 - accuracy: 0.8337 - val_loss: 0.6116 - val_accuracy: 0.7925\n",
      "Epoch 20/20\n",
      "3125/3125 [==============================] - 243s 78ms/step - loss: 0.4407 - accuracy: 0.8409 - val_loss: 0.6089 - val_accuracy: 0.7970\n",
      "313/313 [==============================] - 8s 26ms/step - loss: 0.6089 - accuracy: 0.7970\n",
      "Test loss 0.6089, accuracy 0.80%\n",
      "Wall time: 1h 24min 5s\n"
     ]
    }
   ],
   "source": [
    "%%time\n",
    "\n",
    "\n",
    "#обучение модели\n",
    "hist2 = model2.fit(X_train, y_train,\n",
    "          epochs=epochs,\n",
    "          batch_size=batch_size,\n",
    "          validation_data=(X_test, y_test),\n",
    "          verbose=1)\n",
    "\n",
    "#метрики модели\n",
    "test_loss_2, test_metric_2 = model2.evaluate(X_test, y_test)\n",
    "print(f\"Test loss {test_loss_2:.4f}, accuracy {test_metric_2:.2f}%\")"
   ]
  },
  {
   "cell_type": "code",
   "execution_count": 17,
   "metadata": {},
   "outputs": [
    {
     "data": {
      "text/plain": [
       "(0.840939998626709, 0.796999990940094)"
      ]
     },
     "execution_count": 17,
     "metadata": {},
     "output_type": "execute_result"
    }
   ],
   "source": [
    "#оценка качества модели\n",
    "train_accuracy_2 = hist2.history['accuracy'][-1]\n",
    "test_accuracy_2 = hist2.history['val_accuracy'][-1]\n",
    "\n",
    "train_accuracy_2, test_accuracy_2"
   ]
  },
  {
   "cell_type": "code",
   "execution_count": 18,
   "metadata": {},
   "outputs": [
    {
     "data": {
      "text/html": [
       "<div>\n",
       "<style scoped>\n",
       "    .dataframe tbody tr th:only-of-type {\n",
       "        vertical-align: middle;\n",
       "    }\n",
       "\n",
       "    .dataframe tbody tr th {\n",
       "        vertical-align: top;\n",
       "    }\n",
       "\n",
       "    .dataframe thead th {\n",
       "        text-align: right;\n",
       "    }\n",
       "</style>\n",
       "<table border=\"1\" class=\"dataframe\">\n",
       "  <thead>\n",
       "    <tr style=\"text-align: right;\">\n",
       "      <th></th>\n",
       "      <th>Model</th>\n",
       "      <th>Train accuracy</th>\n",
       "      <th>Test accuracy</th>\n",
       "    </tr>\n",
       "  </thead>\n",
       "  <tbody>\n",
       "    <tr>\n",
       "      <th>1</th>\n",
       "      <td>СNN_more_filters</td>\n",
       "      <td>0.84094</td>\n",
       "      <td>0.7970</td>\n",
       "    </tr>\n",
       "    <tr>\n",
       "      <th>0</th>\n",
       "      <td>CNN</td>\n",
       "      <td>0.78292</td>\n",
       "      <td>0.7858</td>\n",
       "    </tr>\n",
       "  </tbody>\n",
       "</table>\n",
       "</div>"
      ],
      "text/plain": [
       "              Model  Train accuracy  Test accuracy\n",
       "1  СNN_more_filters         0.84094         0.7970\n",
       "0               CNN         0.78292         0.7858"
      ]
     },
     "execution_count": 18,
     "metadata": {},
     "output_type": "execute_result"
    }
   ],
   "source": [
    "#датафрейм с метриками\n",
    "CNN_result = CNN_result.append({'Model': 'СNN_more_filters', \n",
    "                                'Train accuracy': train_accuracy_2, \n",
    "                                'Test accuracy': test_accuracy_2},\n",
    "                                 ignore_index=True)\n",
    "\n",
    "CNN_result.sort_values(by='Test accuracy',ascending=False)"
   ]
  },
  {
   "cell_type": "markdown",
   "metadata": {},
   "source": [
    "**Вывод:** \n",
    "\n",
    "1) обучение модели занимает большее время, чем модели с меньшим числом фильтров, \n",
    "\n",
    "2) метрика на валидации растет не монотонно,\n",
    "\n",
    "3) при увеличении числа фильтров метрика accuracy на тесте увеличивается (но растет и переобучение)."
   ]
  },
  {
   "cell_type": "markdown",
   "metadata": {},
   "source": [
    "## 4. Оценка роста точности нейронной сети при увеличении глубины (количества слоев) сети<a id='section_4'></a>"
   ]
  },
  {
   "cell_type": "markdown",
   "metadata": {},
   "source": [
    "Увеличим число слоев модели из пункта 2"
   ]
  },
  {
   "cell_type": "code",
   "execution_count": 19,
   "metadata": {},
   "outputs": [],
   "source": [
    "# инициализация модели\n",
    "model3 = Sequential()\n",
    "\n",
    "# слои нейросети отвественные за свертку и max-pooling\n",
    "#сверточный слой\n",
    "model3.add(Conv2D(32, (3, 3), padding='same', input_shape=X_train.shape[1:]))\n",
    "model3.add(Activation('relu')) \n",
    "#сверточный слой\n",
    "model3.add(Conv2D(32, (3, 3)))\n",
    "model3.add(Activation('relu'))\n",
    "#пуллинг(подвыбока)-слой \n",
    "model3.add(MaxPooling2D(pool_size=(2, 2)))\n",
    "model3.add(Dropout(0.25))\n",
    "\n",
    "#сверточный слой\n",
    "model3.add(Conv2D(64, (3, 3), padding='same'))\n",
    "model3.add(Activation('relu'))\n",
    "#сверточный слой\n",
    "model3.add(Conv2D(64, (3, 3)))\n",
    "model3.add(Activation('relu'))\n",
    "#пулинг слой\n",
    "model3.add(MaxPooling2D(pool_size=(2, 2)))\n",
    "model3.add(Dropout(0.25))\n",
    "\n",
    "#сверточный слой\n",
    "model3.add(Conv2D(128, (3, 3), padding='same'))\n",
    "model3.add(Activation('relu'))\n",
    "#сверточный слой\n",
    "model3.add(Conv2D(128, (3, 3)))\n",
    "model3.add(Activation('relu'))\n",
    "#пулинг слой\n",
    "model3.add(MaxPooling2D(pool_size=(2, 2)))\n",
    "model3.add(Dropout(0.25))\n",
    "\n",
    "# полносвязные слои нейронной сети\n",
    "model3.add(Flatten())\n",
    "model3.add(Dense(512))\n",
    "model3.add(Activation('relu'))\n",
    "model3.add(Dropout(0.5))\n",
    "model3.add(Dense(num_classes))\n",
    "model3.add(Activation('softmax'))\n",
    "\n",
    "# компиляция модели\n",
    "model3.compile(loss='categorical_crossentropy',\n",
    "              optimizer='SGD',\n",
    "              metrics=['accuracy'])"
   ]
  },
  {
   "cell_type": "code",
   "execution_count": 20,
   "metadata": {},
   "outputs": [
    {
     "name": "stdout",
     "output_type": "stream",
     "text": [
      "Epoch 1/20\n",
      "3125/3125 [==============================] - 119s 38ms/step - loss: 2.0957 - accuracy: 0.2038 - val_loss: 1.8471 - val_accuracy: 0.3246\n",
      "Epoch 2/20\n",
      "3125/3125 [==============================] - 118s 38ms/step - loss: 1.7388 - accuracy: 0.3517 - val_loss: 1.5341 - val_accuracy: 0.4337\n",
      "Epoch 3/20\n",
      "3125/3125 [==============================] - 118s 38ms/step - loss: 1.5300 - accuracy: 0.4347 - val_loss: 1.4443 - val_accuracy: 0.4697\n",
      "Epoch 4/20\n",
      "3125/3125 [==============================] - 118s 38ms/step - loss: 1.3842 - accuracy: 0.4952 - val_loss: 1.1995 - val_accuracy: 0.5594\n",
      "Epoch 5/20\n",
      "3125/3125 [==============================] - 118s 38ms/step - loss: 1.2729 - accuracy: 0.5423 - val_loss: 1.1222 - val_accuracy: 0.6030\n",
      "Epoch 6/20\n",
      "3125/3125 [==============================] - 118s 38ms/step - loss: 1.1832 - accuracy: 0.5772 - val_loss: 1.1180 - val_accuracy: 0.6077\n",
      "Epoch 7/20\n",
      "3125/3125 [==============================] - 118s 38ms/step - loss: 1.1078 - accuracy: 0.6069 - val_loss: 0.9995 - val_accuracy: 0.6459\n",
      "Epoch 8/20\n",
      "3125/3125 [==============================] - 118s 38ms/step - loss: 1.0434 - accuracy: 0.6288 - val_loss: 0.9277 - val_accuracy: 0.6717\n",
      "Epoch 9/20\n",
      "3125/3125 [==============================] - 118s 38ms/step - loss: 0.9828 - accuracy: 0.6550 - val_loss: 0.8708 - val_accuracy: 0.6943\n",
      "Epoch 10/20\n",
      "3125/3125 [==============================] - 118s 38ms/step - loss: 0.9299 - accuracy: 0.6713 - val_loss: 0.8260 - val_accuracy: 0.7101\n",
      "Epoch 11/20\n",
      "3125/3125 [==============================] - 119s 38ms/step - loss: 0.8807 - accuracy: 0.6915 - val_loss: 0.8459 - val_accuracy: 0.7048\n",
      "Epoch 12/20\n",
      "3125/3125 [==============================] - 118s 38ms/step - loss: 0.8378 - accuracy: 0.7070 - val_loss: 0.7585 - val_accuracy: 0.7368\n",
      "Epoch 13/20\n",
      "3125/3125 [==============================] - 119s 38ms/step - loss: 0.7977 - accuracy: 0.7211 - val_loss: 0.7091 - val_accuracy: 0.7570\n",
      "Epoch 14/20\n",
      "3125/3125 [==============================] - 118s 38ms/step - loss: 0.7655 - accuracy: 0.7333 - val_loss: 0.7169 - val_accuracy: 0.7536\n",
      "Epoch 15/20\n",
      "3125/3125 [==============================] - 118s 38ms/step - loss: 0.7339 - accuracy: 0.7441 - val_loss: 0.6661 - val_accuracy: 0.7760\n",
      "Epoch 16/20\n",
      "3125/3125 [==============================] - 119s 38ms/step - loss: 0.7051 - accuracy: 0.7547 - val_loss: 0.6366 - val_accuracy: 0.7836\n",
      "Epoch 17/20\n",
      "3125/3125 [==============================] - 119s 38ms/step - loss: 0.6828 - accuracy: 0.7614 - val_loss: 0.6627 - val_accuracy: 0.7740\n",
      "Epoch 18/20\n",
      "3125/3125 [==============================] - 119s 38ms/step - loss: 0.6595 - accuracy: 0.7718 - val_loss: 0.6289 - val_accuracy: 0.7878\n",
      "Epoch 19/20\n",
      "3125/3125 [==============================] - 119s 38ms/step - loss: 0.6337 - accuracy: 0.7798 - val_loss: 0.6566 - val_accuracy: 0.7752\n",
      "Epoch 20/20\n",
      "3125/3125 [==============================] - 119s 38ms/step - loss: 0.6212 - accuracy: 0.7856 - val_loss: 0.6131 - val_accuracy: 0.7934\n",
      "313/313 [==============================] - 4s 13ms/step - loss: 0.6131 - accuracy: 0.7934\n",
      "Test loss 0.6131, accuracy 0.79%\n",
      "Wall time: 39min 34s\n"
     ]
    }
   ],
   "source": [
    "%%time\n",
    "\n",
    "\n",
    "#обучение модели\n",
    "hist3 = model3.fit(X_train, y_train,\n",
    "          epochs=epochs,\n",
    "          batch_size=batch_size,\n",
    "          validation_data=(X_test, y_test),\n",
    "          verbose=1)\n",
    "\n",
    "#метрики модели\n",
    "test_loss_3, test_metric_3 = model3.evaluate(X_test, y_test)\n",
    "print(f\"Test loss {test_loss_3:.4f}, accuracy {test_metric_3:.2f}%\")"
   ]
  },
  {
   "cell_type": "code",
   "execution_count": 21,
   "metadata": {},
   "outputs": [
    {
     "data": {
      "text/plain": [
       "(0.7856199741363525, 0.79339998960495)"
      ]
     },
     "execution_count": 21,
     "metadata": {},
     "output_type": "execute_result"
    }
   ],
   "source": [
    "#оценка качества модели\n",
    "train_accuracy_3 = hist3.history['accuracy'][-1]\n",
    "test_accuracy_3 = hist3.history['val_accuracy'][-1]\n",
    "\n",
    "train_accuracy_3, test_accuracy_3"
   ]
  },
  {
   "cell_type": "code",
   "execution_count": 22,
   "metadata": {},
   "outputs": [
    {
     "data": {
      "text/html": [
       "<div>\n",
       "<style scoped>\n",
       "    .dataframe tbody tr th:only-of-type {\n",
       "        vertical-align: middle;\n",
       "    }\n",
       "\n",
       "    .dataframe tbody tr th {\n",
       "        vertical-align: top;\n",
       "    }\n",
       "\n",
       "    .dataframe thead th {\n",
       "        text-align: right;\n",
       "    }\n",
       "</style>\n",
       "<table border=\"1\" class=\"dataframe\">\n",
       "  <thead>\n",
       "    <tr style=\"text-align: right;\">\n",
       "      <th></th>\n",
       "      <th>Model</th>\n",
       "      <th>Train accuracy</th>\n",
       "      <th>Test accuracy</th>\n",
       "    </tr>\n",
       "  </thead>\n",
       "  <tbody>\n",
       "    <tr>\n",
       "      <th>1</th>\n",
       "      <td>СNN_more_filters</td>\n",
       "      <td>0.84094</td>\n",
       "      <td>0.7970</td>\n",
       "    </tr>\n",
       "    <tr>\n",
       "      <th>2</th>\n",
       "      <td>СNN_more_layers</td>\n",
       "      <td>0.78562</td>\n",
       "      <td>0.7934</td>\n",
       "    </tr>\n",
       "    <tr>\n",
       "      <th>0</th>\n",
       "      <td>CNN</td>\n",
       "      <td>0.78292</td>\n",
       "      <td>0.7858</td>\n",
       "    </tr>\n",
       "  </tbody>\n",
       "</table>\n",
       "</div>"
      ],
      "text/plain": [
       "              Model  Train accuracy  Test accuracy\n",
       "1  СNN_more_filters         0.84094         0.7970\n",
       "2   СNN_more_layers         0.78562         0.7934\n",
       "0               CNN         0.78292         0.7858"
      ]
     },
     "execution_count": 22,
     "metadata": {},
     "output_type": "execute_result"
    }
   ],
   "source": [
    "#датафрейм с метриками\n",
    "CNN_result = CNN_result.append({'Model': 'СNN_more_layers', \n",
    "                                'Train accuracy': train_accuracy_3, \n",
    "                                'Test accuracy': test_accuracy_3},\n",
    "                                 ignore_index=True)\n",
    "\n",
    "CNN_result.sort_values(by='Test accuracy',ascending=False)"
   ]
  },
  {
   "cell_type": "markdown",
   "metadata": {},
   "source": [
    "**Вывод:** \n",
    "\n",
    "1) обучение модели занимает большее время, чем модели с меньшим числом слоев, \n",
    "\n",
    "2) метрика на валидации растет не монотонно,\n",
    "\n",
    "3) при увеличении числа слоев метрика accuracy на тесте увеличивается (меньше, чем при увеличении фильтров, но зато и переобучение меньше)."
   ]
  },
  {
   "cell_type": "markdown",
   "metadata": {},
   "source": [
    "## 5*. Полносвязная нейронная сеть<a id='section_5'></a>"
   ]
  },
  {
   "cell_type": "code",
   "execution_count": 23,
   "metadata": {},
   "outputs": [
    {
     "name": "stdout",
     "output_type": "stream",
     "text": [
      "Model: \"sequential_3\"\n",
      "_________________________________________________________________\n",
      " Layer (type)                Output Shape              Param #   \n",
      "=================================================================\n",
      " flatten_3 (Flatten)         (None, 3072)              0         \n",
      "                                                                 \n",
      " dense_6 (Dense)             (None, 32)                98336     \n",
      "                                                                 \n",
      " dense_7 (Dense)             (None, 64)                2112      \n",
      "                                                                 \n",
      " dense_8 (Dense)             (None, 10)                650       \n",
      "                                                                 \n",
      "=================================================================\n",
      "Total params: 101,098\n",
      "Trainable params: 101,098\n",
      "Non-trainable params: 0\n",
      "_________________________________________________________________\n"
     ]
    }
   ],
   "source": [
    "#инициализация модели\n",
    "model_ffnn = Sequential([\n",
    "    Flatten(input_shape=X_train.shape[1:]),\n",
    "    Dense(32, activation='relu'),\n",
    "    Dense(64, activation='relu'),\n",
    "    Dense(10, activation='softmax')\n",
    "])\n",
    "\n",
    "model_ffnn.summary()"
   ]
  },
  {
   "cell_type": "code",
   "execution_count": 24,
   "metadata": {},
   "outputs": [],
   "source": [
    "#компиляция модели\n",
    "model_ffnn.compile(optimizer='SGD',\n",
    "              loss='categorical_crossentropy',\n",
    "              metrics=['accuracy'])"
   ]
  },
  {
   "cell_type": "code",
   "execution_count": 25,
   "metadata": {},
   "outputs": [
    {
     "name": "stdout",
     "output_type": "stream",
     "text": [
      "Epoch 1/20\n",
      "3125/3125 [==============================] - 4s 1ms/step - loss: 1.9003 - accuracy: 0.3095 - val_loss: 1.7546 - val_accuracy: 0.3734\n",
      "Epoch 2/20\n",
      "3125/3125 [==============================] - 3s 1ms/step - loss: 1.7248 - accuracy: 0.3838 - val_loss: 1.6876 - val_accuracy: 0.4011\n",
      "Epoch 3/20\n",
      "3125/3125 [==============================] - 3s 1ms/step - loss: 1.6546 - accuracy: 0.4074 - val_loss: 1.6211 - val_accuracy: 0.4237\n",
      "Epoch 4/20\n",
      "3125/3125 [==============================] - 3s 1ms/step - loss: 1.6051 - accuracy: 0.4294 - val_loss: 1.5966 - val_accuracy: 0.4290\n",
      "Epoch 5/20\n",
      "3125/3125 [==============================] - 3s 1ms/step - loss: 1.5712 - accuracy: 0.4396 - val_loss: 1.5821 - val_accuracy: 0.4369\n",
      "Epoch 6/20\n",
      "3125/3125 [==============================] - 3s 1ms/step - loss: 1.5444 - accuracy: 0.4505 - val_loss: 1.5395 - val_accuracy: 0.4496\n",
      "Epoch 7/20\n",
      "3125/3125 [==============================] - 3s 1ms/step - loss: 1.5233 - accuracy: 0.4566 - val_loss: 1.5425 - val_accuracy: 0.4497\n",
      "Epoch 8/20\n",
      "3125/3125 [==============================] - 3s 1ms/step - loss: 1.5034 - accuracy: 0.4649 - val_loss: 1.5193 - val_accuracy: 0.4581\n",
      "Epoch 9/20\n",
      "3125/3125 [==============================] - 3s 1ms/step - loss: 1.4862 - accuracy: 0.4702 - val_loss: 1.4937 - val_accuracy: 0.4670\n",
      "Epoch 10/20\n",
      "3125/3125 [==============================] - 3s 1ms/step - loss: 1.4718 - accuracy: 0.4746 - val_loss: 1.5062 - val_accuracy: 0.4648\n",
      "Epoch 11/20\n",
      "3125/3125 [==============================] - 3s 1ms/step - loss: 1.4587 - accuracy: 0.4791 - val_loss: 1.4927 - val_accuracy: 0.4678\n",
      "Epoch 12/20\n",
      "3125/3125 [==============================] - 3s 1ms/step - loss: 1.4489 - accuracy: 0.4831 - val_loss: 1.4840 - val_accuracy: 0.4702\n",
      "Epoch 13/20\n",
      "3125/3125 [==============================] - 3s 1ms/step - loss: 1.4355 - accuracy: 0.4855 - val_loss: 1.4690 - val_accuracy: 0.4762\n",
      "Epoch 14/20\n",
      "3125/3125 [==============================] - 3s 1ms/step - loss: 1.4265 - accuracy: 0.4929 - val_loss: 1.5042 - val_accuracy: 0.4680\n",
      "Epoch 15/20\n",
      "3125/3125 [==============================] - 3s 1ms/step - loss: 1.4167 - accuracy: 0.4926 - val_loss: 1.4899 - val_accuracy: 0.4699\n",
      "Epoch 16/20\n",
      "3125/3125 [==============================] - 3s 1ms/step - loss: 1.4083 - accuracy: 0.4993 - val_loss: 1.4617 - val_accuracy: 0.4821\n",
      "Epoch 17/20\n",
      "3125/3125 [==============================] - 3s 1ms/step - loss: 1.3977 - accuracy: 0.5005 - val_loss: 1.4742 - val_accuracy: 0.4791\n",
      "Epoch 18/20\n",
      "3125/3125 [==============================] - 3s 1ms/step - loss: 1.3890 - accuracy: 0.5045 - val_loss: 1.4642 - val_accuracy: 0.4746\n",
      "Epoch 19/20\n",
      "3125/3125 [==============================] - 3s 1ms/step - loss: 1.3822 - accuracy: 0.5073 - val_loss: 1.5658 - val_accuracy: 0.4559\n",
      "Epoch 20/20\n",
      "3125/3125 [==============================] - 4s 1ms/step - loss: 1.3738 - accuracy: 0.5108 - val_loss: 1.4428 - val_accuracy: 0.4841\n"
     ]
    }
   ],
   "source": [
    "#обучение модели\n",
    "hist_ffnn = model_ffnn.fit(X_train, y_train,\n",
    "          epochs=epochs,\n",
    "          batch_size=batch_size,\n",
    "          verbose=1, \n",
    "          validation_data=(X_test, y_test))"
   ]
  },
  {
   "cell_type": "code",
   "execution_count": 26,
   "metadata": {},
   "outputs": [
    {
     "data": {
      "text/plain": [
       "(0.5107799768447876, 0.48410001397132874)"
      ]
     },
     "execution_count": 26,
     "metadata": {},
     "output_type": "execute_result"
    }
   ],
   "source": [
    "#оценка качества модели\n",
    "train_accuracy_ffnn = hist_ffnn.history['accuracy'][-1]\n",
    "test_accuracy_ffnn = hist_ffnn.history['val_accuracy'][-1]\n",
    "\n",
    "train_accuracy_ffnn, test_accuracy_ffnn"
   ]
  },
  {
   "cell_type": "code",
   "execution_count": 27,
   "metadata": {},
   "outputs": [
    {
     "data": {
      "text/html": [
       "<div>\n",
       "<style scoped>\n",
       "    .dataframe tbody tr th:only-of-type {\n",
       "        vertical-align: middle;\n",
       "    }\n",
       "\n",
       "    .dataframe tbody tr th {\n",
       "        vertical-align: top;\n",
       "    }\n",
       "\n",
       "    .dataframe thead th {\n",
       "        text-align: right;\n",
       "    }\n",
       "</style>\n",
       "<table border=\"1\" class=\"dataframe\">\n",
       "  <thead>\n",
       "    <tr style=\"text-align: right;\">\n",
       "      <th></th>\n",
       "      <th>Model</th>\n",
       "      <th>Train accuracy</th>\n",
       "      <th>Test accuracy</th>\n",
       "    </tr>\n",
       "  </thead>\n",
       "  <tbody>\n",
       "    <tr>\n",
       "      <th>1</th>\n",
       "      <td>СNN_more_filters</td>\n",
       "      <td>0.84094</td>\n",
       "      <td>0.7970</td>\n",
       "    </tr>\n",
       "    <tr>\n",
       "      <th>2</th>\n",
       "      <td>СNN_more_layers</td>\n",
       "      <td>0.78562</td>\n",
       "      <td>0.7934</td>\n",
       "    </tr>\n",
       "    <tr>\n",
       "      <th>0</th>\n",
       "      <td>CNN</td>\n",
       "      <td>0.78292</td>\n",
       "      <td>0.7858</td>\n",
       "    </tr>\n",
       "    <tr>\n",
       "      <th>3</th>\n",
       "      <td>FFNN</td>\n",
       "      <td>0.51078</td>\n",
       "      <td>0.4841</td>\n",
       "    </tr>\n",
       "  </tbody>\n",
       "</table>\n",
       "</div>"
      ],
      "text/plain": [
       "              Model  Train accuracy  Test accuracy\n",
       "1  СNN_more_filters         0.84094         0.7970\n",
       "2   СNN_more_layers         0.78562         0.7934\n",
       "0               CNN         0.78292         0.7858\n",
       "3              FFNN         0.51078         0.4841"
      ]
     },
     "execution_count": 27,
     "metadata": {},
     "output_type": "execute_result"
    }
   ],
   "source": [
    "#датафрейм с метриками\n",
    "CNN_result = CNN_result.append({'Model': 'FFNN', \n",
    "                                'Train accuracy': train_accuracy_ffnn, \n",
    "                                'Test accuracy': test_accuracy_ffnn},\n",
    "                                 ignore_index=True)\n",
    "\n",
    "CNN_result.sort_values(by='Test accuracy',ascending=False)"
   ]
  },
  {
   "cell_type": "markdown",
   "metadata": {},
   "source": [
    "## 6. Выводы<a id='section_6'></a>"
   ]
  },
  {
   "cell_type": "markdown",
   "metadata": {},
   "source": [
    "На основе пунктов 2--5 можно сформулировать следующие выводы:\n",
    "\n",
    "1. полносвязная нейронная сеть обучается быстрее сверточной, \n",
    "\n",
    "2. метрика accuracy на тесте у полносвязной нейронной сети хуже, чем у сверточной,\n",
    "\n",
    "3. при увеличении числа фильтров/слоев сверточной нейронной сети метрика accuracy на тесте увеличивается,\n",
    "\n",
    "4. для увеличения метрики accuracy на тесте у нейронной сети необходимо:\n",
    "\n",
    "   - сначала увеличивать числа фильтров, при этом вырастет переобучение, \n",
    "   \n",
    "   - затем увеличить число слоев, чтобы снизить переобучение;\n",
    "\n",
    "5. лучшие показатели метрики accuracy у нейронной сети с большим числом фильтров."
   ]
  }
 ],
 "metadata": {
  "kernelspec": {
   "display_name": "Python 3",
   "language": "python",
   "name": "python3"
  },
  "language_info": {
   "codemirror_mode": {
    "name": "ipython",
    "version": 3
   },
   "file_extension": ".py",
   "mimetype": "text/x-python",
   "name": "python",
   "nbconvert_exporter": "python",
   "pygments_lexer": "ipython3",
   "version": "3.8.5"
  }
 },
 "nbformat": 4,
 "nbformat_minor": 4
}
