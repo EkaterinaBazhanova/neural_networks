{
 "cells": [
  {
   "cell_type": "markdown",
   "metadata": {},
   "source": [
    "# Домашнее задание 2. Keras"
   ]
  },
  {
   "cell_type": "markdown",
   "metadata": {},
   "source": [
    "**Порядок работы с нейронной сетью**:\n",
    "1. Подготовка данных (нормализация)\n",
    "2. Создание архитектуры модели\n",
    "3. Компиляция модели\n",
    "    - выбор функции потерь\n",
    "    - выбор метрики качества\n",
    "    - выбор оптимизатора\n",
    "4. Обучение модели\n",
    "5. Оценка её качества"
   ]
  },
  {
   "cell_type": "code",
   "execution_count": 46,
   "metadata": {},
   "outputs": [],
   "source": [
    "#загрузка необходимых библиотек и модулей\n",
    "\n",
    "#pip install keras\n",
    "import keras\n",
    "from keras.datasets import fashion_mnist\n",
    "from keras.utils.np_utils import to_categorical\n",
    "\n",
    "from keras.layers import Dense\n",
    "from keras.models import Sequential\n",
    "from keras.utils.vis_utils import plot_model\n",
    "\n",
    "import numpy as np\n",
    "import pandas as pd\n",
    "import seaborn as sns\n",
    "\n",
    "from sklearn.metrics import confusion_matrix, classification_report, multilabel_confusion_matrix"
   ]
  },
  {
   "cell_type": "markdown",
   "metadata": {},
   "source": [
    "## Задание:\n",
    "Используем набор примеров fashion-MNIST\n",
    "\n",
    "1. Опишите - какой результат нейросети получен в зависимости от:\n",
    "  - числа нейронов в слое (для 2-х слойной сети), \n",
    "  - числа слоев (2, 3, 5, 10) при близких размерах сети (близкое число тренируемых параметров).\n",
    "  - фиксируйте для тренировочного и тестового набора метрики accuracy.\n",
    "2.  Проверьте работу разных оптимизаторов (SGD, Adam, RMSProp) для одной из моделей п.1. Фиксируйте для тренировочного и тестового набора метрики accuracy.\n",
    "\n",
    "3. Сделайте вывод - что помогло вам улучшить качество классификации в нейросети на тестовом наборе? \n",
    "\n",
    "4. Для одного варианта сети сформируйте матрицу ошибок по классам. Оцените качество модели по каждому классу отдельно (полнота, точность)."
   ]
  },
  {
   "cell_type": "markdown",
   "metadata": {},
   "source": [
    "## План работы\n",
    "\n",
    "[0. Загрузка данных](#section_0)\n",
    "\n",
    "[1. Подготовка данных](#section_1)\n",
    "\n",
    "[2. Исследование двухслойной нейросети в зависимости от числа нейронов в слое](#section_2)\n",
    "\n",
    "[3. Исследование нейросети в зависимости от числа слоев (2, 3, 5, 10) при близких размерах сети (близкое число тренируемых параметров)](#section_3)\n",
    "\n",
    "[4. Проверка работы разных оптимизаторов (SGD, Adam, RMSProp) для одной из моделей п.3](#section_4)\n",
    "\n",
    "[5. Вывод о факторах влиющих на улучшение метрики качества нейросети на тестовом наборе](#section_5)\n",
    "\n",
    "[6. Матрица ошибок по классам и оценка качества модели по каждому классу отдельно (полнота и точность)](#section_6)"
   ]
  },
  {
   "cell_type": "markdown",
   "metadata": {},
   "source": [
    "## 0. Загрузка данных<a id='section_0'></a>"
   ]
  },
  {
   "cell_type": "code",
   "execution_count": 6,
   "metadata": {},
   "outputs": [
    {
     "name": "stdout",
     "output_type": "stream",
     "text": [
      "(60000, 28, 28) (10000, 28, 28)\n",
      "(60000,)\n"
     ]
    }
   ],
   "source": [
    "(X_train, y_train_labels), (X_test, y_test_labels) = fashion_mnist.load_data()\n",
    "\n",
    "print(X_train.shape, X_test.shape)\n",
    "print(y_train_labels.shape)"
   ]
  },
  {
   "cell_type": "code",
   "execution_count": 7,
   "metadata": {},
   "outputs": [
    {
     "name": "stdout",
     "output_type": "stream",
     "text": [
      "Label is 2\n"
     ]
    },
    {
     "data": {
      "image/png": "[encoded data removed]",
      "text/plain": [
       "<Figure size 432x288 with 1 Axes>"
      ]
     },
     "metadata": {
      "needs_background": "light"
     },
     "output_type": "display_data"
    }
   ],
   "source": [
    "ind = np.random.randint(0, X_train.shape[0])\n",
    "plt.imshow(X_train[ind], cmap='gray')\n",
    "print(f'Label is {y_train_labels[ind]}')"
   ]
  },
  {
   "cell_type": "markdown",
   "metadata": {},
   "source": [
    "**Описание датасета:**\n",
    "\n",
    "0 -- футболка/топ;\n",
    "\n",
    "1 -- Шорты;\n",
    "\n",
    "2 -- Свитер;\n",
    "\n",
    "3 -- Платье;\n",
    "\n",
    "4 -- Плащ;\n",
    "\n",
    "5 -- Сандали;\n",
    "\n",
    "6 -- Рубашка;\n",
    "\n",
    "7 -- Кроссовки;\n",
    "\n",
    "8 -- Сумка;\n",
    "\n",
    "9 -- Ботинки."
   ]
  },
  {
   "cell_type": "markdown",
   "metadata": {},
   "source": [
    "## 1. Подготовка данных<a id='section_1'></a>"
   ]
  },
  {
   "cell_type": "markdown",
   "metadata": {},
   "source": [
    "Проведем нормализацию датасетов"
   ]
  },
  {
   "cell_type": "code",
   "execution_count": 8,
   "metadata": {},
   "outputs": [
    {
     "data": {
      "text/plain": [
       "(0.0, 1.0)"
      ]
     },
     "execution_count": 8,
     "metadata": {},
     "output_type": "execute_result"
    }
   ],
   "source": [
    "# Нормировка\n",
    "X_train = X_train / X_train.max()\n",
    "X_test = X_test / X_train.max()\n",
    "X_train.min(), X_train.max()"
   ]
  },
  {
   "cell_type": "code",
   "execution_count": 9,
   "metadata": {},
   "outputs": [
    {
     "data": {
      "text/plain": [
       "((60000, 784), (10000, 784))"
      ]
     },
     "execution_count": 9,
     "metadata": {},
     "output_type": "execute_result"
    }
   ],
   "source": [
    "# Вытягивание признаков\n",
    "X_train = X_train.reshape((-1, 28 * 28))\n",
    "X_test = X_test.reshape((-1, 28 * 28))\n",
    "\n",
    "X_train.shape, X_test.shape"
   ]
  },
  {
   "cell_type": "code",
   "execution_count": 10,
   "metadata": {},
   "outputs": [
    {
     "data": {
      "text/plain": [
       "array([[0., 0., 0., ..., 0., 0., 0.],\n",
       "       [0., 0., 0., ..., 0., 0., 0.],\n",
       "       [0., 0., 0., ..., 0., 0., 0.],\n",
       "       ...,\n",
       "       [0., 0., 0., ..., 0., 0., 0.],\n",
       "       [0., 0., 0., ..., 0., 0., 0.],\n",
       "       [0., 0., 0., ..., 0., 0., 0.]])"
      ]
     },
     "execution_count": 10,
     "metadata": {},
     "output_type": "execute_result"
    }
   ],
   "source": [
    "X_train"
   ]
  },
  {
   "cell_type": "code",
   "execution_count": 11,
   "metadata": {},
   "outputs": [
    {
     "data": {
      "text/plain": [
       "((60000, 10), (10000, 10))"
      ]
     },
     "execution_count": 11,
     "metadata": {},
     "output_type": "execute_result"
    }
   ],
   "source": [
    "# преобразование меток класса к категориальному типу\n",
    "y_train = to_categorical(y_train_labels)\n",
    "y_test = to_categorical(y_test_labels)\n",
    "\n",
    "y_train.shape, y_test.shape"
   ]
  },
  {
   "cell_type": "code",
   "execution_count": 12,
   "metadata": {},
   "outputs": [
    {
     "data": {
      "text/plain": [
       "array([[0., 0., 0., 0., 0., 0., 0., 0., 0., 1.],\n",
       "       [1., 0., 0., 0., 0., 0., 0., 0., 0., 0.],\n",
       "       [1., 0., 0., 0., 0., 0., 0., 0., 0., 0.],\n",
       "       [0., 0., 0., 1., 0., 0., 0., 0., 0., 0.],\n",
       "       [1., 0., 0., 0., 0., 0., 0., 0., 0., 0.]], dtype=float32)"
      ]
     },
     "execution_count": 12,
     "metadata": {},
     "output_type": "execute_result"
    }
   ],
   "source": [
    "y_train[:5]"
   ]
  },
  {
   "cell_type": "markdown",
   "metadata": {},
   "source": [
    "## 2. Исследование двухслойной нейросети в зависимости от числа нейронов в слое<a id='section_2'></a>"
   ]
  },
  {
   "cell_type": "markdown",
   "metadata": {},
   "source": [
    "Построим двухслойную нейронную сеть и исследуем значение метрики accuracy в зависимоти от числа нейронов в слоях"
   ]
  },
  {
   "cell_type": "code",
   "execution_count": 13,
   "metadata": {},
   "outputs": [
    {
     "name": "stdout",
     "output_type": "stream",
     "text": [
      "Wall time: 11min 47s\n"
     ]
    },
    {
     "data": {
      "text/html": [
       "<div>\n",
       "<style scoped>\n",
       "    .dataframe tbody tr th:only-of-type {\n",
       "        vertical-align: middle;\n",
       "    }\n",
       "\n",
       "    .dataframe tbody tr th {\n",
       "        vertical-align: top;\n",
       "    }\n",
       "\n",
       "    .dataframe thead th {\n",
       "        text-align: right;\n",
       "    }\n",
       "</style>\n",
       "<table border=\"1\" class=\"dataframe\">\n",
       "  <thead>\n",
       "    <tr style=\"text-align: right;\">\n",
       "      <th></th>\n",
       "      <th>dense_1_num_neurons</th>\n",
       "      <th>test_accuracy</th>\n",
       "      <th>train_accuracy</th>\n",
       "    </tr>\n",
       "  </thead>\n",
       "  <tbody>\n",
       "    <tr>\n",
       "      <th>16</th>\n",
       "      <td>130.0</td>\n",
       "      <td>0.8719</td>\n",
       "      <td>0.893367</td>\n",
       "    </tr>\n",
       "    <tr>\n",
       "      <th>28</th>\n",
       "      <td>190.0</td>\n",
       "      <td>0.8694</td>\n",
       "      <td>0.893333</td>\n",
       "    </tr>\n",
       "    <tr>\n",
       "      <th>49</th>\n",
       "      <td>295.0</td>\n",
       "      <td>0.8691</td>\n",
       "      <td>0.894017</td>\n",
       "    </tr>\n",
       "    <tr>\n",
       "      <th>33</th>\n",
       "      <td>215.0</td>\n",
       "      <td>0.8677</td>\n",
       "      <td>0.893550</td>\n",
       "    </tr>\n",
       "    <tr>\n",
       "      <th>47</th>\n",
       "      <td>285.0</td>\n",
       "      <td>0.8669</td>\n",
       "      <td>0.894733</td>\n",
       "    </tr>\n",
       "    <tr>\n",
       "      <th>30</th>\n",
       "      <td>200.0</td>\n",
       "      <td>0.8669</td>\n",
       "      <td>0.893967</td>\n",
       "    </tr>\n",
       "    <tr>\n",
       "      <th>44</th>\n",
       "      <td>270.0</td>\n",
       "      <td>0.8665</td>\n",
       "      <td>0.895117</td>\n",
       "    </tr>\n",
       "    <tr>\n",
       "      <th>35</th>\n",
       "      <td>225.0</td>\n",
       "      <td>0.8665</td>\n",
       "      <td>0.893433</td>\n",
       "    </tr>\n",
       "    <tr>\n",
       "      <th>32</th>\n",
       "      <td>210.0</td>\n",
       "      <td>0.8659</td>\n",
       "      <td>0.893583</td>\n",
       "    </tr>\n",
       "    <tr>\n",
       "      <th>45</th>\n",
       "      <td>275.0</td>\n",
       "      <td>0.8651</td>\n",
       "      <td>0.894500</td>\n",
       "    </tr>\n",
       "    <tr>\n",
       "      <th>31</th>\n",
       "      <td>205.0</td>\n",
       "      <td>0.8643</td>\n",
       "      <td>0.894433</td>\n",
       "    </tr>\n",
       "    <tr>\n",
       "      <th>18</th>\n",
       "      <td>140.0</td>\n",
       "      <td>0.8643</td>\n",
       "      <td>0.891633</td>\n",
       "    </tr>\n",
       "    <tr>\n",
       "      <th>40</th>\n",
       "      <td>250.0</td>\n",
       "      <td>0.8639</td>\n",
       "      <td>0.894067</td>\n",
       "    </tr>\n",
       "    <tr>\n",
       "      <th>15</th>\n",
       "      <td>125.0</td>\n",
       "      <td>0.8639</td>\n",
       "      <td>0.891733</td>\n",
       "    </tr>\n",
       "    <tr>\n",
       "      <th>36</th>\n",
       "      <td>230.0</td>\n",
       "      <td>0.8630</td>\n",
       "      <td>0.893400</td>\n",
       "    </tr>\n",
       "    <tr>\n",
       "      <th>12</th>\n",
       "      <td>110.0</td>\n",
       "      <td>0.8628</td>\n",
       "      <td>0.890867</td>\n",
       "    </tr>\n",
       "    <tr>\n",
       "      <th>24</th>\n",
       "      <td>170.0</td>\n",
       "      <td>0.8622</td>\n",
       "      <td>0.893233</td>\n",
       "    </tr>\n",
       "    <tr>\n",
       "      <th>27</th>\n",
       "      <td>185.0</td>\n",
       "      <td>0.8622</td>\n",
       "      <td>0.892433</td>\n",
       "    </tr>\n",
       "    <tr>\n",
       "      <th>41</th>\n",
       "      <td>255.0</td>\n",
       "      <td>0.8618</td>\n",
       "      <td>0.893633</td>\n",
       "    </tr>\n",
       "    <tr>\n",
       "      <th>10</th>\n",
       "      <td>100.0</td>\n",
       "      <td>0.8609</td>\n",
       "      <td>0.888933</td>\n",
       "    </tr>\n",
       "    <tr>\n",
       "      <th>34</th>\n",
       "      <td>220.0</td>\n",
       "      <td>0.8604</td>\n",
       "      <td>0.895350</td>\n",
       "    </tr>\n",
       "    <tr>\n",
       "      <th>22</th>\n",
       "      <td>160.0</td>\n",
       "      <td>0.8577</td>\n",
       "      <td>0.892467</td>\n",
       "    </tr>\n",
       "    <tr>\n",
       "      <th>38</th>\n",
       "      <td>240.0</td>\n",
       "      <td>0.8576</td>\n",
       "      <td>0.895133</td>\n",
       "    </tr>\n",
       "    <tr>\n",
       "      <th>21</th>\n",
       "      <td>155.0</td>\n",
       "      <td>0.8574</td>\n",
       "      <td>0.892867</td>\n",
       "    </tr>\n",
       "    <tr>\n",
       "      <th>46</th>\n",
       "      <td>280.0</td>\n",
       "      <td>0.8571</td>\n",
       "      <td>0.894450</td>\n",
       "    </tr>\n",
       "    <tr>\n",
       "      <th>19</th>\n",
       "      <td>145.0</td>\n",
       "      <td>0.8568</td>\n",
       "      <td>0.892600</td>\n",
       "    </tr>\n",
       "    <tr>\n",
       "      <th>29</th>\n",
       "      <td>195.0</td>\n",
       "      <td>0.8562</td>\n",
       "      <td>0.893400</td>\n",
       "    </tr>\n",
       "    <tr>\n",
       "      <th>5</th>\n",
       "      <td>75.0</td>\n",
       "      <td>0.8561</td>\n",
       "      <td>0.888600</td>\n",
       "    </tr>\n",
       "    <tr>\n",
       "      <th>13</th>\n",
       "      <td>115.0</td>\n",
       "      <td>0.8557</td>\n",
       "      <td>0.890683</td>\n",
       "    </tr>\n",
       "    <tr>\n",
       "      <th>48</th>\n",
       "      <td>290.0</td>\n",
       "      <td>0.8557</td>\n",
       "      <td>0.893667</td>\n",
       "    </tr>\n",
       "    <tr>\n",
       "      <th>25</th>\n",
       "      <td>175.0</td>\n",
       "      <td>0.8556</td>\n",
       "      <td>0.892700</td>\n",
       "    </tr>\n",
       "    <tr>\n",
       "      <th>17</th>\n",
       "      <td>135.0</td>\n",
       "      <td>0.8545</td>\n",
       "      <td>0.889467</td>\n",
       "    </tr>\n",
       "    <tr>\n",
       "      <th>11</th>\n",
       "      <td>105.0</td>\n",
       "      <td>0.8542</td>\n",
       "      <td>0.890450</td>\n",
       "    </tr>\n",
       "    <tr>\n",
       "      <th>26</th>\n",
       "      <td>180.0</td>\n",
       "      <td>0.8534</td>\n",
       "      <td>0.893750</td>\n",
       "    </tr>\n",
       "    <tr>\n",
       "      <th>20</th>\n",
       "      <td>150.0</td>\n",
       "      <td>0.8534</td>\n",
       "      <td>0.890817</td>\n",
       "    </tr>\n",
       "    <tr>\n",
       "      <th>39</th>\n",
       "      <td>245.0</td>\n",
       "      <td>0.8526</td>\n",
       "      <td>0.893933</td>\n",
       "    </tr>\n",
       "    <tr>\n",
       "      <th>6</th>\n",
       "      <td>80.0</td>\n",
       "      <td>0.8510</td>\n",
       "      <td>0.887733</td>\n",
       "    </tr>\n",
       "    <tr>\n",
       "      <th>9</th>\n",
       "      <td>95.0</td>\n",
       "      <td>0.8509</td>\n",
       "      <td>0.890300</td>\n",
       "    </tr>\n",
       "    <tr>\n",
       "      <th>3</th>\n",
       "      <td>65.0</td>\n",
       "      <td>0.8499</td>\n",
       "      <td>0.887050</td>\n",
       "    </tr>\n",
       "    <tr>\n",
       "      <th>37</th>\n",
       "      <td>235.0</td>\n",
       "      <td>0.8495</td>\n",
       "      <td>0.894317</td>\n",
       "    </tr>\n",
       "    <tr>\n",
       "      <th>23</th>\n",
       "      <td>165.0</td>\n",
       "      <td>0.8458</td>\n",
       "      <td>0.892817</td>\n",
       "    </tr>\n",
       "    <tr>\n",
       "      <th>0</th>\n",
       "      <td>50.0</td>\n",
       "      <td>0.8454</td>\n",
       "      <td>0.883083</td>\n",
       "    </tr>\n",
       "    <tr>\n",
       "      <th>42</th>\n",
       "      <td>260.0</td>\n",
       "      <td>0.8450</td>\n",
       "      <td>0.893100</td>\n",
       "    </tr>\n",
       "    <tr>\n",
       "      <th>14</th>\n",
       "      <td>120.0</td>\n",
       "      <td>0.8421</td>\n",
       "      <td>0.892000</td>\n",
       "    </tr>\n",
       "    <tr>\n",
       "      <th>2</th>\n",
       "      <td>60.0</td>\n",
       "      <td>0.8421</td>\n",
       "      <td>0.885117</td>\n",
       "    </tr>\n",
       "    <tr>\n",
       "      <th>7</th>\n",
       "      <td>85.0</td>\n",
       "      <td>0.8420</td>\n",
       "      <td>0.885950</td>\n",
       "    </tr>\n",
       "    <tr>\n",
       "      <th>1</th>\n",
       "      <td>55.0</td>\n",
       "      <td>0.8414</td>\n",
       "      <td>0.884233</td>\n",
       "    </tr>\n",
       "    <tr>\n",
       "      <th>43</th>\n",
       "      <td>265.0</td>\n",
       "      <td>0.8371</td>\n",
       "      <td>0.894283</td>\n",
       "    </tr>\n",
       "    <tr>\n",
       "      <th>50</th>\n",
       "      <td>300.0</td>\n",
       "      <td>0.8342</td>\n",
       "      <td>0.893100</td>\n",
       "    </tr>\n",
       "    <tr>\n",
       "      <th>8</th>\n",
       "      <td>90.0</td>\n",
       "      <td>0.8328</td>\n",
       "      <td>0.889350</td>\n",
       "    </tr>\n",
       "    <tr>\n",
       "      <th>4</th>\n",
       "      <td>70.0</td>\n",
       "      <td>0.8270</td>\n",
       "      <td>0.886167</td>\n",
       "    </tr>\n",
       "  </tbody>\n",
       "</table>\n",
       "</div>"
      ],
      "text/plain": [
       "    dense_1_num_neurons  test_accuracy  train_accuracy\n",
       "16                130.0         0.8719        0.893367\n",
       "28                190.0         0.8694        0.893333\n",
       "49                295.0         0.8691        0.894017\n",
       "33                215.0         0.8677        0.893550\n",
       "47                285.0         0.8669        0.894733\n",
       "30                200.0         0.8669        0.893967\n",
       "44                270.0         0.8665        0.895117\n",
       "35                225.0         0.8665        0.893433\n",
       "32                210.0         0.8659        0.893583\n",
       "45                275.0         0.8651        0.894500\n",
       "31                205.0         0.8643        0.894433\n",
       "18                140.0         0.8643        0.891633\n",
       "40                250.0         0.8639        0.894067\n",
       "15                125.0         0.8639        0.891733\n",
       "36                230.0         0.8630        0.893400\n",
       "12                110.0         0.8628        0.890867\n",
       "24                170.0         0.8622        0.893233\n",
       "27                185.0         0.8622        0.892433\n",
       "41                255.0         0.8618        0.893633\n",
       "10                100.0         0.8609        0.888933\n",
       "34                220.0         0.8604        0.895350\n",
       "22                160.0         0.8577        0.892467\n",
       "38                240.0         0.8576        0.895133\n",
       "21                155.0         0.8574        0.892867\n",
       "46                280.0         0.8571        0.894450\n",
       "19                145.0         0.8568        0.892600\n",
       "29                195.0         0.8562        0.893400\n",
       "5                  75.0         0.8561        0.888600\n",
       "13                115.0         0.8557        0.890683\n",
       "48                290.0         0.8557        0.893667\n",
       "25                175.0         0.8556        0.892700\n",
       "17                135.0         0.8545        0.889467\n",
       "11                105.0         0.8542        0.890450\n",
       "26                180.0         0.8534        0.893750\n",
       "20                150.0         0.8534        0.890817\n",
       "39                245.0         0.8526        0.893933\n",
       "6                  80.0         0.8510        0.887733\n",
       "9                  95.0         0.8509        0.890300\n",
       "3                  65.0         0.8499        0.887050\n",
       "37                235.0         0.8495        0.894317\n",
       "23                165.0         0.8458        0.892817\n",
       "0                  50.0         0.8454        0.883083\n",
       "42                260.0         0.8450        0.893100\n",
       "14                120.0         0.8421        0.892000\n",
       "2                  60.0         0.8421        0.885117\n",
       "7                  85.0         0.8420        0.885950\n",
       "1                  55.0         0.8414        0.884233\n",
       "43                265.0         0.8371        0.894283\n",
       "50                300.0         0.8342        0.893100\n",
       "8                  90.0         0.8328        0.889350\n",
       "4                  70.0         0.8270        0.886167"
      ]
     },
     "execution_count": 13,
     "metadata": {},
     "output_type": "execute_result"
    }
   ],
   "source": [
    "%%time\n",
    "\n",
    "dense_1_neurons_list = [i for i in range(50, 301, 5)]\n",
    "\n",
    "metric_df = pd.DataFrame() \n",
    "\n",
    "for dense_1_num_neurons in dense_1_neurons_list:\n",
    "    #инициализация модели\n",
    "    model = Sequential([\n",
    "    Dense(dense_1_num_neurons, input_shape=(28 * 28,), activation='relu'),\n",
    "    Dense(10, activation='sigmoid')\n",
    "])\n",
    "\n",
    "    #компиляция модели\n",
    "    model.compile(loss='categorical_crossentropy', optimizer='Adam', metrics=['accuracy'])\n",
    "    \n",
    "    #обучение модели\n",
    "    history = model.fit(X_train, y_train,\n",
    "                    epochs=5,\n",
    "                    batch_size=32, \n",
    "                    verbose=0, \n",
    "                    validation_data=(X_test, y_test))\n",
    "    \n",
    "    #оценка качества модели\n",
    "    train_metric = history.history['accuracy'][-1]\n",
    "    test_metric = history.history['val_accuracy'][-1]\n",
    "   \n",
    "    metric_df = metric_df.append({'dense_1_num_neurons': dense_1_num_neurons,\n",
    "                                  'train_accuracy': train_metric, \n",
    "                                  'test_accuracy': test_metric}, ignore_index=True)\n",
    "    \n",
    "metric_df.sort_values(by='test_accuracy',ascending=False)"
   ]
  },
  {
   "cell_type": "code",
   "execution_count": 15,
   "metadata": {},
   "outputs": [
    {
     "data": {
      "image/png": "[encoded data removed]",
      "text/plain": [
       "<Figure size 1152x360 with 1 Axes>"
      ]
     },
     "metadata": {
      "needs_background": "light"
     },
     "output_type": "display_data"
    }
   ],
   "source": [
    "plt.figure(figsize=(16, 5))\n",
    "plt.plot(metric_df['dense_1_num_neurons'], metric_df['train_accuracy'], label = 'train')\n",
    "plt.plot(metric_df['dense_1_num_neurons'], metric_df['test_accuracy'],label = 'test')\n",
    "plt.xlabel('dense_1_num_neurons')\n",
    "plt.ylabel('accuracy')\n",
    "plt.legend(loc = 'best')\n",
    "plt.show()"
   ]
  },
  {
   "cell_type": "markdown",
   "metadata": {},
   "source": [
    "**Вывод:** при увеличении числа нейронов значение accuracy возрастает не монотонно. Лучшее значение accuracy на тесте при числе нейронов = 130."
   ]
  },
  {
   "cell_type": "markdown",
   "metadata": {},
   "source": [
    "## 3. Исследование нейросети в зависимости от числа слоев (2, 3, 5, 10) при близких размерах сети (близкое число тренируемых параметров)<a id='section_3'></a>"
   ]
  },
  {
   "cell_type": "code",
   "execution_count": 18,
   "metadata": {},
   "outputs": [],
   "source": [
    "#сводная таблица метрик моделей\n",
    "metric_nn = pd.DataFrame() "
   ]
  },
  {
   "cell_type": "markdown",
   "metadata": {},
   "source": [
    "### 2-х слойная нейронная сеть"
   ]
  },
  {
   "cell_type": "code",
   "execution_count": 19,
   "metadata": {},
   "outputs": [
    {
     "name": "stdout",
     "output_type": "stream",
     "text": [
      "Model: \"sequential_52\"\n",
      "_________________________________________________________________\n",
      " Layer (type)                Output Shape              Param #   \n",
      "=================================================================\n",
      " dense_104 (Dense)           (None, 130)               102050    \n",
      "                                                                 \n",
      " dense_105 (Dense)           (None, 10)                1310      \n",
      "                                                                 \n",
      "=================================================================\n",
      "Total params: 103,360\n",
      "Trainable params: 103,360\n",
      "Non-trainable params: 0\n",
      "_________________________________________________________________\n"
     ]
    }
   ],
   "source": [
    "#инициализация модели\n",
    "model_2 = Sequential([\n",
    "    Dense(130, input_shape=(28 * 28,), activation='relu'),\n",
    "    Dense(10, activation='sigmoid')\n",
    "])\n",
    "\n",
    "model_2.summary()"
   ]
  },
  {
   "cell_type": "code",
   "execution_count": 20,
   "metadata": {},
   "outputs": [
    {
     "name": "stdout",
     "output_type": "stream",
     "text": [
      "Wall time: 33.5 s\n"
     ]
    },
    {
     "data": {
      "text/html": [
       "<div>\n",
       "<style scoped>\n",
       "    .dataframe tbody tr th:only-of-type {\n",
       "        vertical-align: middle;\n",
       "    }\n",
       "\n",
       "    .dataframe tbody tr th {\n",
       "        vertical-align: top;\n",
       "    }\n",
       "\n",
       "    .dataframe thead th {\n",
       "        text-align: right;\n",
       "    }\n",
       "</style>\n",
       "<table border=\"1\" class=\"dataframe\">\n",
       "  <thead>\n",
       "    <tr style=\"text-align: right;\">\n",
       "      <th></th>\n",
       "      <th>Num_of_layer</th>\n",
       "      <th>Total_params</th>\n",
       "      <th>test_accuracy</th>\n",
       "      <th>train_accuracy</th>\n",
       "    </tr>\n",
       "  </thead>\n",
       "  <tbody>\n",
       "    <tr>\n",
       "      <th>0</th>\n",
       "      <td>2.0</td>\n",
       "      <td>103360.0</td>\n",
       "      <td>0.8595</td>\n",
       "      <td>0.892183</td>\n",
       "    </tr>\n",
       "  </tbody>\n",
       "</table>\n",
       "</div>"
      ],
      "text/plain": [
       "   Num_of_layer  Total_params  test_accuracy  train_accuracy\n",
       "0           2.0      103360.0         0.8595        0.892183"
      ]
     },
     "execution_count": 20,
     "metadata": {},
     "output_type": "execute_result"
    }
   ],
   "source": [
    "%%time\n",
    "\n",
    "#компиляция модели\n",
    "model_2.compile(loss='categorical_crossentropy', optimizer='adam', metrics=['accuracy'])\n",
    "\n",
    "#обучение модели\n",
    "history_2 = model_2.fit(X_train, y_train,\n",
    "                    epochs=5,\n",
    "                    batch_size=10, \n",
    "                    verbose=0, \n",
    "                    validation_data=(X_test, y_test))\n",
    "\n",
    "#метрики модели\n",
    "train_metric = history_2.history['accuracy'][-1]\n",
    "test_metric = history_2.history['val_accuracy'][-1]\n",
    "\n",
    "#результирующий датасет\n",
    "metric_nn = metric_nn.append({'Num_of_layer': 2,\n",
    "                              'Total_params': 103360,\n",
    "                              'train_accuracy': train_metric, \n",
    "                              'test_accuracy': test_metric}, ignore_index=True)\n",
    "    \n",
    "metric_nn.sort_values(by='test_accuracy',ascending=False)"
   ]
  },
  {
   "cell_type": "markdown",
   "metadata": {},
   "source": [
    "### 3-х слойная нейронная сеть"
   ]
  },
  {
   "cell_type": "code",
   "execution_count": 21,
   "metadata": {},
   "outputs": [
    {
     "name": "stdout",
     "output_type": "stream",
     "text": [
      "Model: \"sequential_53\"\n",
      "_________________________________________________________________\n",
      " Layer (type)                Output Shape              Param #   \n",
      "=================================================================\n",
      " dense_106 (Dense)           (None, 122)               95770     \n",
      "                                                                 \n",
      " dense_107 (Dense)           (None, 57)                7011      \n",
      "                                                                 \n",
      " dense_108 (Dense)           (None, 10)                580       \n",
      "                                                                 \n",
      "=================================================================\n",
      "Total params: 103,361\n",
      "Trainable params: 103,361\n",
      "Non-trainable params: 0\n",
      "_________________________________________________________________\n"
     ]
    }
   ],
   "source": [
    "#инициализация модели\n",
    "model_3 = Sequential([\n",
    "    Dense(122, input_shape=(28 * 28,), activation='relu'),\n",
    "    Dense(57, activation='relu'),\n",
    "    Dense(10, activation='sigmoid')\n",
    "])\n",
    "\n",
    "model_3.summary()"
   ]
  },
  {
   "cell_type": "code",
   "execution_count": 22,
   "metadata": {},
   "outputs": [
    {
     "name": "stdout",
     "output_type": "stream",
     "text": [
      "Wall time: 33.1 s\n"
     ]
    },
    {
     "data": {
      "text/html": [
       "<div>\n",
       "<style scoped>\n",
       "    .dataframe tbody tr th:only-of-type {\n",
       "        vertical-align: middle;\n",
       "    }\n",
       "\n",
       "    .dataframe tbody tr th {\n",
       "        vertical-align: top;\n",
       "    }\n",
       "\n",
       "    .dataframe thead th {\n",
       "        text-align: right;\n",
       "    }\n",
       "</style>\n",
       "<table border=\"1\" class=\"dataframe\">\n",
       "  <thead>\n",
       "    <tr style=\"text-align: right;\">\n",
       "      <th></th>\n",
       "      <th>Num_of_layer</th>\n",
       "      <th>Total_params</th>\n",
       "      <th>test_accuracy</th>\n",
       "      <th>train_accuracy</th>\n",
       "    </tr>\n",
       "  </thead>\n",
       "  <tbody>\n",
       "    <tr>\n",
       "      <th>0</th>\n",
       "      <td>2.0</td>\n",
       "      <td>103360.0</td>\n",
       "      <td>0.8595</td>\n",
       "      <td>0.892183</td>\n",
       "    </tr>\n",
       "    <tr>\n",
       "      <th>1</th>\n",
       "      <td>3.0</td>\n",
       "      <td>103361.0</td>\n",
       "      <td>0.8434</td>\n",
       "      <td>0.890300</td>\n",
       "    </tr>\n",
       "  </tbody>\n",
       "</table>\n",
       "</div>"
      ],
      "text/plain": [
       "   Num_of_layer  Total_params  test_accuracy  train_accuracy\n",
       "0           2.0      103360.0         0.8595        0.892183\n",
       "1           3.0      103361.0         0.8434        0.890300"
      ]
     },
     "execution_count": 22,
     "metadata": {},
     "output_type": "execute_result"
    }
   ],
   "source": [
    "%%time\n",
    "\n",
    "#компиляция модели\n",
    "model_3.compile(loss='categorical_crossentropy', optimizer='Adam', metrics=['accuracy'])\n",
    "\n",
    "#обучение модели\n",
    "history_3 = model_3.fit(X_train, y_train,\n",
    "                    epochs=5,\n",
    "                    batch_size=10, \n",
    "                    verbose=0, \n",
    "                    validation_data=(X_test, y_test))\n",
    "\n",
    "#метрики модели\n",
    "train_metric = history_3.history['accuracy'][-1]\n",
    "test_metric = history_3.history['val_accuracy'][-1]\n",
    "\n",
    "#результирующий датасет\n",
    "metric_nn = metric_nn.append({'Num_of_layer': 3,\n",
    "                              'Total_params': 103361,\n",
    "                              'train_accuracy': train_metric, \n",
    "                              'test_accuracy': test_metric}, ignore_index=True)\n",
    "    \n",
    "metric_nn.sort_values(by='test_accuracy',ascending=False)"
   ]
  },
  {
   "cell_type": "markdown",
   "metadata": {},
   "source": [
    "### 5-и слойная нейронная сеть"
   ]
  },
  {
   "cell_type": "code",
   "execution_count": 23,
   "metadata": {},
   "outputs": [
    {
     "name": "stdout",
     "output_type": "stream",
     "text": [
      "Model: \"sequential_54\"\n",
      "_________________________________________________________________\n",
      " Layer (type)                Output Shape              Param #   \n",
      "=================================================================\n",
      " dense_109 (Dense)           (None, 110)               86350     \n",
      "                                                                 \n",
      " dense_110 (Dense)           (None, 100)               11100     \n",
      "                                                                 \n",
      " dense_111 (Dense)           (None, 50)                5050      \n",
      "                                                                 \n",
      " dense_112 (Dense)           (None, 14)                714       \n",
      "                                                                 \n",
      " dense_113 (Dense)           (None, 10)                150       \n",
      "                                                                 \n",
      "=================================================================\n",
      "Total params: 103,364\n",
      "Trainable params: 103,364\n",
      "Non-trainable params: 0\n",
      "_________________________________________________________________\n"
     ]
    }
   ],
   "source": [
    "#инициализация модели\n",
    "model_5 = Sequential([\n",
    "    Dense(110, input_shape=(28 * 28,), activation='relu'),\n",
    "    Dense(100, activation='relu'),\n",
    "    Dense(50, activation='relu'),\n",
    "    Dense(14, activation='relu'),\n",
    "    Dense(10, activation='sigmoid')\n",
    "])\n",
    "\n",
    "model_5.summary()"
   ]
  },
  {
   "cell_type": "code",
   "execution_count": 24,
   "metadata": {},
   "outputs": [
    {
     "name": "stdout",
     "output_type": "stream",
     "text": [
      "Wall time: 35.9 s\n"
     ]
    },
    {
     "data": {
      "text/html": [
       "<div>\n",
       "<style scoped>\n",
       "    .dataframe tbody tr th:only-of-type {\n",
       "        vertical-align: middle;\n",
       "    }\n",
       "\n",
       "    .dataframe tbody tr th {\n",
       "        vertical-align: top;\n",
       "    }\n",
       "\n",
       "    .dataframe thead th {\n",
       "        text-align: right;\n",
       "    }\n",
       "</style>\n",
       "<table border=\"1\" class=\"dataframe\">\n",
       "  <thead>\n",
       "    <tr style=\"text-align: right;\">\n",
       "      <th></th>\n",
       "      <th>Num_of_layer</th>\n",
       "      <th>Total_params</th>\n",
       "      <th>test_accuracy</th>\n",
       "      <th>train_accuracy</th>\n",
       "    </tr>\n",
       "  </thead>\n",
       "  <tbody>\n",
       "    <tr>\n",
       "      <th>0</th>\n",
       "      <td>2.0</td>\n",
       "      <td>103360.0</td>\n",
       "      <td>0.8595</td>\n",
       "      <td>0.892183</td>\n",
       "    </tr>\n",
       "    <tr>\n",
       "      <th>2</th>\n",
       "      <td>5.0</td>\n",
       "      <td>103364.0</td>\n",
       "      <td>0.8447</td>\n",
       "      <td>0.889067</td>\n",
       "    </tr>\n",
       "    <tr>\n",
       "      <th>1</th>\n",
       "      <td>3.0</td>\n",
       "      <td>103361.0</td>\n",
       "      <td>0.8434</td>\n",
       "      <td>0.890300</td>\n",
       "    </tr>\n",
       "  </tbody>\n",
       "</table>\n",
       "</div>"
      ],
      "text/plain": [
       "   Num_of_layer  Total_params  test_accuracy  train_accuracy\n",
       "0           2.0      103360.0         0.8595        0.892183\n",
       "2           5.0      103364.0         0.8447        0.889067\n",
       "1           3.0      103361.0         0.8434        0.890300"
      ]
     },
     "execution_count": 24,
     "metadata": {},
     "output_type": "execute_result"
    }
   ],
   "source": [
    "%%time\n",
    "\n",
    "#компиляция модели\n",
    "model_5.compile(loss='categorical_crossentropy', optimizer='Adam', metrics=['accuracy'])\n",
    "\n",
    "#обучение модели\n",
    "history_5 = model_5.fit(X_train, y_train,\n",
    "                    epochs=5,\n",
    "                    batch_size=10, \n",
    "                    verbose=0, \n",
    "                    validation_data=(X_test, y_test))\n",
    "\n",
    "#метрики модели\n",
    "train_metric = history_5.history['accuracy'][-1]\n",
    "test_metric = history_5.history['val_accuracy'][-1]\n",
    "\n",
    "#результирующий датасет\n",
    "metric_nn = metric_nn.append({'Num_of_layer': 5,\n",
    "                              'Total_params': 103364,\n",
    "                              'train_accuracy': train_metric, \n",
    "                              'test_accuracy': test_metric}, ignore_index=True)\n",
    "    \n",
    "metric_nn.sort_values(by='test_accuracy',ascending=False)"
   ]
  },
  {
   "cell_type": "markdown",
   "metadata": {},
   "source": [
    "### 10-и слойная нейронная сеть"
   ]
  },
  {
   "cell_type": "code",
   "execution_count": 25,
   "metadata": {},
   "outputs": [
    {
     "name": "stdout",
     "output_type": "stream",
     "text": [
      "Model: \"sequential_55\"\n",
      "_________________________________________________________________\n",
      " Layer (type)                Output Shape              Param #   \n",
      "=================================================================\n",
      " dense_114 (Dense)           (None, 100)               78500     \n",
      "                                                                 \n",
      " dense_115 (Dense)           (None, 80)                8080      \n",
      "                                                                 \n",
      " dense_116 (Dense)           (None, 60)                4860      \n",
      "                                                                 \n",
      " dense_117 (Dense)           (None, 60)                3660      \n",
      "                                                                 \n",
      " dense_118 (Dense)           (None, 50)                3050      \n",
      "                                                                 \n",
      " dense_119 (Dense)           (None, 40)                2040      \n",
      "                                                                 \n",
      " dense_120 (Dense)           (None, 29)                1189      \n",
      "                                                                 \n",
      " dense_121 (Dense)           (None, 28)                840       \n",
      "                                                                 \n",
      " dense_122 (Dense)           (None, 29)                841       \n",
      "                                                                 \n",
      " dense_123 (Dense)           (None, 10)                300       \n",
      "                                                                 \n",
      "=================================================================\n",
      "Total params: 103,360\n",
      "Trainable params: 103,360\n",
      "Non-trainable params: 0\n",
      "_________________________________________________________________\n"
     ]
    }
   ],
   "source": [
    "#инициализация модели\n",
    "model_10 = Sequential([\n",
    "    Dense(100, input_shape=(28 * 28,), activation='relu'),\n",
    "    Dense(80, activation='relu'),\n",
    "    Dense(60, activation='relu'),\n",
    "    Dense(60, activation='relu'),\n",
    "    Dense(50, activation='relu'),\n",
    "    Dense(40, activation='relu'),\n",
    "    Dense(29, activation='relu'),\n",
    "    Dense(28, activation='relu'),\n",
    "    Dense(29, activation='relu'),\n",
    "    Dense(10, activation='sigmoid')\n",
    "])\n",
    "\n",
    "model_10.summary()"
   ]
  },
  {
   "cell_type": "code",
   "execution_count": 26,
   "metadata": {},
   "outputs": [
    {
     "name": "stdout",
     "output_type": "stream",
     "text": [
      "Wall time: 38 s\n"
     ]
    },
    {
     "data": {
      "text/html": [
       "<div>\n",
       "<style scoped>\n",
       "    .dataframe tbody tr th:only-of-type {\n",
       "        vertical-align: middle;\n",
       "    }\n",
       "\n",
       "    .dataframe tbody tr th {\n",
       "        vertical-align: top;\n",
       "    }\n",
       "\n",
       "    .dataframe thead th {\n",
       "        text-align: right;\n",
       "    }\n",
       "</style>\n",
       "<table border=\"1\" class=\"dataframe\">\n",
       "  <thead>\n",
       "    <tr style=\"text-align: right;\">\n",
       "      <th></th>\n",
       "      <th>Num_of_layer</th>\n",
       "      <th>Total_params</th>\n",
       "      <th>test_accuracy</th>\n",
       "      <th>train_accuracy</th>\n",
       "    </tr>\n",
       "  </thead>\n",
       "  <tbody>\n",
       "    <tr>\n",
       "      <th>0</th>\n",
       "      <td>2.0</td>\n",
       "      <td>103360.0</td>\n",
       "      <td>0.8595</td>\n",
       "      <td>0.892183</td>\n",
       "    </tr>\n",
       "    <tr>\n",
       "      <th>2</th>\n",
       "      <td>5.0</td>\n",
       "      <td>103364.0</td>\n",
       "      <td>0.8447</td>\n",
       "      <td>0.889067</td>\n",
       "    </tr>\n",
       "    <tr>\n",
       "      <th>1</th>\n",
       "      <td>3.0</td>\n",
       "      <td>103361.0</td>\n",
       "      <td>0.8434</td>\n",
       "      <td>0.890300</td>\n",
       "    </tr>\n",
       "    <tr>\n",
       "      <th>3</th>\n",
       "      <td>10.0</td>\n",
       "      <td>103360.0</td>\n",
       "      <td>0.8219</td>\n",
       "      <td>0.876000</td>\n",
       "    </tr>\n",
       "  </tbody>\n",
       "</table>\n",
       "</div>"
      ],
      "text/plain": [
       "   Num_of_layer  Total_params  test_accuracy  train_accuracy\n",
       "0           2.0      103360.0         0.8595        0.892183\n",
       "2           5.0      103364.0         0.8447        0.889067\n",
       "1           3.0      103361.0         0.8434        0.890300\n",
       "3          10.0      103360.0         0.8219        0.876000"
      ]
     },
     "execution_count": 26,
     "metadata": {},
     "output_type": "execute_result"
    }
   ],
   "source": [
    "%%time\n",
    "\n",
    "#компиляция модели\n",
    "model_10.compile(loss='categorical_crossentropy', optimizer='Adam', metrics=['accuracy'])\n",
    "\n",
    "#обучение модели\n",
    "history_10 = model_10.fit(X_train, y_train,\n",
    "                    epochs=5,\n",
    "                    batch_size=10, \n",
    "                    verbose=0, \n",
    "                    validation_data=(X_test, y_test))\n",
    "\n",
    "#метрики модели\n",
    "train_metric = history_10.history['accuracy'][-1]\n",
    "test_metric = history_10.history['val_accuracy'][-1]\n",
    "\n",
    "#результирующий датасет\n",
    "metric_nn = metric_nn.append({'Num_of_layer': 10,\n",
    "                              'Total_params': 103360,\n",
    "                              'train_accuracy': train_metric, \n",
    "                              'test_accuracy': test_metric}, ignore_index=True)\n",
    "    \n",
    "metric_nn.sort_values(by='test_accuracy',ascending=False)"
   ]
  },
  {
   "cell_type": "code",
   "execution_count": 27,
   "metadata": {},
   "outputs": [
    {
     "data": {
      "image/png": "[encoded data removed]",
      "text/plain": [
       "<Figure size 1152x360 with 1 Axes>"
      ]
     },
     "metadata": {
      "needs_background": "light"
     },
     "output_type": "display_data"
    }
   ],
   "source": [
    "plt.figure(figsize=(16, 5))\n",
    "plt.plot(metric_nn['Num_of_layer'], metric_nn['train_accuracy'], label = 'train')\n",
    "plt.plot(metric_nn['Num_of_layer'], metric_nn['test_accuracy'],label = 'test')\n",
    "plt.xlabel('Num_of_layer')\n",
    "plt.ylabel('accuracy')\n",
    "plt.legend(loc = 'best')\n",
    "plt.show()"
   ]
  },
  {
   "cell_type": "markdown",
   "metadata": {},
   "source": [
    "**Вывод:** при близком числе тренируемых параметров с увеличением числа слоев значение accuracy на тесте не монотонно убывает. Оптимальное значение числа слоев = 2."
   ]
  },
  {
   "cell_type": "markdown",
   "metadata": {},
   "source": [
    "## 4. Проверка работы разных оптимизаторов (SGD, Adam, RMSProp) для одной из моделей п.3<a id='section_4'></a>"
   ]
  },
  {
   "cell_type": "code",
   "execution_count": 36,
   "metadata": {},
   "outputs": [
    {
     "name": "stdout",
     "output_type": "stream",
     "text": [
      "Model: \"sequential_52\"\n",
      "_________________________________________________________________\n",
      " Layer (type)                Output Shape              Param #   \n",
      "=================================================================\n",
      " dense_104 (Dense)           (None, 130)               102050    \n",
      "                                                                 \n",
      " dense_105 (Dense)           (None, 10)                1310      \n",
      "                                                                 \n",
      "=================================================================\n",
      "Total params: 103,360\n",
      "Trainable params: 103,360\n",
      "Non-trainable params: 0\n",
      "_________________________________________________________________\n"
     ]
    }
   ],
   "source": [
    "#Лучшая модель из пункта 3\n",
    "model_2.summary()"
   ]
  },
  {
   "cell_type": "code",
   "execution_count": 37,
   "metadata": {},
   "outputs": [
    {
     "data": {
      "text/plain": [
       "{'name': 'sequential_52',\n",
       " 'layers': [{'class_name': 'InputLayer',\n",
       "   'config': {'batch_input_shape': (None, 784),\n",
       "    'dtype': 'float32',\n",
       "    'sparse': False,\n",
       "    'ragged': False,\n",
       "    'name': 'dense_104_input'}},\n",
       "  {'class_name': 'Dense',\n",
       "   'config': {'name': 'dense_104',\n",
       "    'trainable': True,\n",
       "    'batch_input_shape': (None, 784),\n",
       "    'dtype': 'float32',\n",
       "    'units': 130,\n",
       "    'activation': 'relu',\n",
       "    'use_bias': True,\n",
       "    'kernel_initializer': {'class_name': 'GlorotUniform',\n",
       "     'config': {'seed': None}},\n",
       "    'bias_initializer': {'class_name': 'Zeros', 'config': {}},\n",
       "    'kernel_regularizer': None,\n",
       "    'bias_regularizer': None,\n",
       "    'activity_regularizer': None,\n",
       "    'kernel_constraint': None,\n",
       "    'bias_constraint': None}},\n",
       "  {'class_name': 'Dense',\n",
       "   'config': {'name': 'dense_105',\n",
       "    'trainable': True,\n",
       "    'dtype': 'float32',\n",
       "    'units': 10,\n",
       "    'activation': 'sigmoid',\n",
       "    'use_bias': True,\n",
       "    'kernel_initializer': {'class_name': 'GlorotUniform',\n",
       "     'config': {'seed': None}},\n",
       "    'bias_initializer': {'class_name': 'Zeros', 'config': {}},\n",
       "    'kernel_regularizer': None,\n",
       "    'bias_regularizer': None,\n",
       "    'activity_regularizer': None,\n",
       "    'kernel_constraint': None,\n",
       "    'bias_constraint': None}}]}"
      ]
     },
     "execution_count": 37,
     "metadata": {},
     "output_type": "execute_result"
    }
   ],
   "source": [
    "model_2.get_config()"
   ]
  },
  {
   "cell_type": "code",
   "execution_count": 38,
   "metadata": {},
   "outputs": [
    {
     "name": "stdout",
     "output_type": "stream",
     "text": [
      "1000/1000 [==============================] - 1s 884us/step - loss: 57.9261 - accuracy: 0.8595\n"
     ]
    },
    {
     "data": {
      "text/plain": [
       "(57.92610168457031, 0.859499990940094)"
      ]
     },
     "execution_count": 38,
     "metadata": {},
     "output_type": "execute_result"
    }
   ],
   "source": [
    "loss, metric = model_2.evaluate(X_test, y_test, batch_size=10)\n",
    "loss, metric"
   ]
  },
  {
   "cell_type": "markdown",
   "metadata": {},
   "source": [
    "Проведем эксперимент с оптимизаторами SGD, Adam, RMSProp для модели model_2"
   ]
  },
  {
   "cell_type": "code",
   "execution_count": 40,
   "metadata": {},
   "outputs": [
    {
     "name": "stdout",
     "output_type": "stream",
     "text": [
      "Epoch 1/5\n",
      "6000/6000 [==============================] - 7s 1ms/step - loss: 0.5895 - accuracy: 0.7987 - val_loss: 90.3675 - val_accuracy: 0.7888\n",
      "Epoch 2/5\n",
      "6000/6000 [==============================] - 7s 1ms/step - loss: 0.4404 - accuracy: 0.8470 - val_loss: 83.6141 - val_accuracy: 0.8047\n",
      "Epoch 3/5\n",
      "6000/6000 [==============================] - 7s 1ms/step - loss: 0.4013 - accuracy: 0.8598 - val_loss: 84.4865 - val_accuracy: 0.7975\n",
      "Epoch 4/5\n",
      "6000/6000 [==============================] - 7s 1ms/step - loss: 0.3766 - accuracy: 0.8661 - val_loss: 77.9972 - val_accuracy: 0.8086\n",
      "Epoch 5/5\n",
      "6000/6000 [==============================] - 7s 1ms/step - loss: 0.3594 - accuracy: 0.8715 - val_loss: 64.9657 - val_accuracy: 0.8304\n",
      "====================\n",
      "Epoch 1/5\n",
      "6000/6000 [==============================] - 8s 1ms/step - loss: 0.4847 - accuracy: 0.8259 - val_loss: 56.1730 - val_accuracy: 0.8447\n",
      "Epoch 2/5\n",
      "6000/6000 [==============================] - 8s 1ms/step - loss: 0.3648 - accuracy: 0.8679 - val_loss: 65.7297 - val_accuracy: 0.8407\n",
      "Epoch 3/5\n",
      "6000/6000 [==============================] - 8s 1ms/step - loss: 0.3322 - accuracy: 0.8777 - val_loss: 62.7668 - val_accuracy: 0.8377\n",
      "Epoch 4/5\n",
      "6000/6000 [==============================] - 8s 1ms/step - loss: 0.3106 - accuracy: 0.8852 - val_loss: 61.7091 - val_accuracy: 0.8482\n",
      "Epoch 5/5\n",
      "6000/6000 [==============================] - 8s 1ms/step - loss: 0.2922 - accuracy: 0.8906 - val_loss: 64.8598 - val_accuracy: 0.8630\n",
      "====================\n",
      "Epoch 1/5\n",
      "6000/6000 [==============================] - 10s 2ms/step - loss: 0.5093 - accuracy: 0.8248 - val_loss: 102.7344 - val_accuracy: 0.8246\n",
      "Epoch 2/5\n",
      "6000/6000 [==============================] - 10s 2ms/step - loss: 0.4330 - accuracy: 0.8605 - val_loss: 108.2603 - val_accuracy: 0.8385\n",
      "Epoch 3/5\n",
      "6000/6000 [==============================] - 10s 2ms/step - loss: 0.4219 - accuracy: 0.8710 - val_loss: 118.1994 - val_accuracy: 0.8281\n",
      "Epoch 4/5\n",
      "6000/6000 [==============================] - 12s 2ms/step - loss: 0.4235 - accuracy: 0.8755 - val_loss: 127.0796 - val_accuracy: 0.8346\n",
      "Epoch 5/5\n",
      "6000/6000 [==============================] - 10s 2ms/step - loss: 0.4245 - accuracy: 0.8787 - val_loss: 123.2427 - val_accuracy: 0.8582\n",
      "====================\n"
     ]
    },
    {
     "data": {
      "image/png": "[encoded data removed]",
      "text/plain": [
       "<Figure size 1152x504 with 1 Axes>"
      ]
     },
     "metadata": {
      "needs_background": "light"
     },
     "output_type": "display_data"
    },
    {
     "name": "stdout",
     "output_type": "stream",
     "text": [
      "Wall time: 2min 14s\n"
     ]
    }
   ],
   "source": [
    "%%time\n",
    "\n",
    "#сводная таблица метрик моделей\n",
    "metric_opt_nn = pd.DataFrame() \n",
    "train_metric_opt_list=[]\n",
    "test_metric_opt_list=[]\n",
    "\n",
    "# модели сохраняем в словарь\n",
    "models = {}\n",
    "\n",
    "plt.figure(figsize=(16, 7))\n",
    "colors = ['g', 'b', 'r']\n",
    "\n",
    "num_epochs = 5\n",
    "batch_size = 10\n",
    "\n",
    "# вектор для вывода результатов\n",
    "epoch = np.arange(num_epochs+1)\n",
    "\n",
    "# будем изменять оптимизаторы\n",
    "for i, i_optim in enumerate([keras.optimizers.gradient_descent_v2.SGD(),\n",
    "                             keras.optimizers.adam_v2.Adam(),\n",
    "                             keras.optimizers.rmsprop_v2.RMSprop()]):\n",
    "    \n",
    "    # создаем рабочую модель  model_opt_i с зафиксированными весами\n",
    "    import tensorflow as tf\n",
    "    tf.random.set_seed(1)\n",
    "    \n",
    "    model_opt_i = Sequential([\n",
    "        Dense(130, activation='relu', input_shape=(784,)),\n",
    "        Dense(10, activation='sigmoid')\n",
    "    ])\n",
    "    \n",
    "    # компилируем model_opt_i с одним из оптимизаторов\n",
    "    model_opt_i.compile(\n",
    "        optimizer=i_optim,\n",
    "        loss='categorical_crossentropy',\n",
    "        metrics=['accuracy'],\n",
    "        )\n",
    "    \n",
    "     # вычисляем ошибку для model_opt_i без обучения\n",
    "    h0_train = model_opt_i.evaluate(X_train, y_train, verbose=0)\n",
    "    h0_val = model_opt_i.evaluate(X_test, y_test, verbose=0)\n",
    "    \n",
    "    # проводим обучение модели \n",
    "    h = model_opt_i.fit(X_train, y_train,\n",
    "                    epochs=num_epochs,\n",
    "                    batch_size=batch_size,\n",
    "                    validation_data=(X_test, y_test),\n",
    "                    verbose=1)\n",
    "    \n",
    "    #оценка качества модели\n",
    "    train_metric_opt = h.history['accuracy'][-1]\n",
    "    test_metric_opt = h.history['val_accuracy'][-1]\n",
    "    \n",
    "    train_metric_opt_list.append(train_metric_opt)\n",
    "    test_metric_opt_list.append(test_metric_opt)\n",
    "    \n",
    "    # записываем обученную модель в словарь\n",
    "    models[i_optim.get_config()['name']] = model_opt_i\n",
    "        \n",
    "    metric_opt_nn = metric_opt_nn.append({'optimizer': i_optim.get_config()['name'],\n",
    "                                           'train_accuracy': train_metric_opt_list[i], \n",
    "                                           'test_accuracy': test_metric_opt_list[i]}, \n",
    "                                            ignore_index=True)\n",
    "    \n",
    "     # картинки\n",
    "    plt.plot(epoch, np.log([h0_train[0]] + h.history['loss']),\n",
    "             '-', c=colors[i],\n",
    "             label=model_opt_i.optimizer.get_config()['name'] + ' train')\n",
    "    plt.plot(epoch, np.log([h0_val[0]] + h.history['val_loss']),\n",
    "             '--', c=colors[i],\n",
    "             label=model_opt_i.optimizer.get_config()['name'] + ' val')\n",
    "    print('=' * 20)\n",
    "\n",
    "plt.legend()\n",
    "plt.title('нейросети от оптимизатора log(loss)')\n",
    "plt.xlabel('epoch')\n",
    "plt.ylabel('log(loss)')\n",
    "plt.show()"
   ]
  },
  {
   "cell_type": "code",
   "execution_count": 41,
   "metadata": {},
   "outputs": [
    {
     "data": {
      "text/html": [
       "<div>\n",
       "<style scoped>\n",
       "    .dataframe tbody tr th:only-of-type {\n",
       "        vertical-align: middle;\n",
       "    }\n",
       "\n",
       "    .dataframe tbody tr th {\n",
       "        vertical-align: top;\n",
       "    }\n",
       "\n",
       "    .dataframe thead th {\n",
       "        text-align: right;\n",
       "    }\n",
       "</style>\n",
       "<table border=\"1\" class=\"dataframe\">\n",
       "  <thead>\n",
       "    <tr style=\"text-align: right;\">\n",
       "      <th></th>\n",
       "      <th>optimizer</th>\n",
       "      <th>test_accuracy</th>\n",
       "      <th>train_accuracy</th>\n",
       "    </tr>\n",
       "  </thead>\n",
       "  <tbody>\n",
       "    <tr>\n",
       "      <th>1</th>\n",
       "      <td>Adam</td>\n",
       "      <td>0.8630</td>\n",
       "      <td>0.89065</td>\n",
       "    </tr>\n",
       "    <tr>\n",
       "      <th>2</th>\n",
       "      <td>RMSprop</td>\n",
       "      <td>0.8582</td>\n",
       "      <td>0.87870</td>\n",
       "    </tr>\n",
       "    <tr>\n",
       "      <th>0</th>\n",
       "      <td>SGD</td>\n",
       "      <td>0.8304</td>\n",
       "      <td>0.87150</td>\n",
       "    </tr>\n",
       "  </tbody>\n",
       "</table>\n",
       "</div>"
      ],
      "text/plain": [
       "  optimizer  test_accuracy  train_accuracy\n",
       "1      Adam         0.8630         0.89065\n",
       "2   RMSprop         0.8582         0.87870\n",
       "0       SGD         0.8304         0.87150"
      ]
     },
     "execution_count": 41,
     "metadata": {},
     "output_type": "execute_result"
    }
   ],
   "source": [
    "metric_opt_nn.sort_values(by='test_accuracy',ascending=False)"
   ]
  },
  {
   "cell_type": "markdown",
   "metadata": {},
   "source": [
    "**Вывод:** наименьшее значение loss на тесте имеет модель с оптимизатором Adam. Оптимальное значение оптимизатора Adam."
   ]
  },
  {
   "cell_type": "markdown",
   "metadata": {},
   "source": [
    "## 5. Вывод о факторах, влиющих на улучшение метрики качества нейросети на тестовом наборе<a id='section_5'></a>"
   ]
  },
  {
   "cell_type": "markdown",
   "metadata": {},
   "source": [
    "Анализ, проведенный в пуктах 2--4 показывает, что на повышение метрики качества нейросети влияет:\n",
    "\n",
    "1. увеличение числа нейронов в слое (для двухслойной нейронной сети);\n",
    "\n",
    "2. уменьшение числа слоев (при сохранении общего числа обучаемых параметров);\n",
    "\n",
    "3. выбор оптимизатора Adam (при компиляции модели)."
   ]
  },
  {
   "cell_type": "markdown",
   "metadata": {},
   "source": [
    "## 6. Матрица ошибок по классам и оценка качества модели по каждому классу отдельно (полнота и точность)<a id='section_6'></a>"
   ]
  },
  {
   "cell_type": "markdown",
   "metadata": {},
   "source": [
    "Составим матрицу ошибок для лучшей модели из пункта 5"
   ]
  },
  {
   "cell_type": "code",
   "execution_count": 156,
   "metadata": {},
   "outputs": [
    {
     "name": "stdout",
     "output_type": "stream",
     "text": [
      "Model: \"sequential_62\"\n",
      "_________________________________________________________________\n",
      " Layer (type)                Output Shape              Param #   \n",
      "=================================================================\n",
      " dense_136 (Dense)           (None, 130)               102050    \n",
      "                                                                 \n",
      " dense_137 (Dense)           (None, 10)                1310      \n",
      "                                                                 \n",
      "=================================================================\n",
      "Total params: 103,360\n",
      "Trainable params: 103,360\n",
      "Non-trainable params: 0\n",
      "_________________________________________________________________\n"
     ]
    }
   ],
   "source": [
    "model_best = models['Adam']\n",
    "model_best.summary()"
   ]
  },
  {
   "cell_type": "code",
   "execution_count": 157,
   "metadata": {},
   "outputs": [
    {
     "data": {
      "text/plain": [
       "{'name': 'sequential_62',\n",
       " 'layers': [{'class_name': 'InputLayer',\n",
       "   'config': {'batch_input_shape': (None, 784),\n",
       "    'dtype': 'float32',\n",
       "    'sparse': False,\n",
       "    'ragged': False,\n",
       "    'name': 'dense_136_input'}},\n",
       "  {'class_name': 'Dense',\n",
       "   'config': {'name': 'dense_136',\n",
       "    'trainable': True,\n",
       "    'batch_input_shape': (None, 784),\n",
       "    'dtype': 'float32',\n",
       "    'units': 130,\n",
       "    'activation': 'relu',\n",
       "    'use_bias': True,\n",
       "    'kernel_initializer': {'class_name': 'GlorotUniform',\n",
       "     'config': {'seed': None}},\n",
       "    'bias_initializer': {'class_name': 'Zeros', 'config': {}},\n",
       "    'kernel_regularizer': None,\n",
       "    'bias_regularizer': None,\n",
       "    'activity_regularizer': None,\n",
       "    'kernel_constraint': None,\n",
       "    'bias_constraint': None}},\n",
       "  {'class_name': 'Dense',\n",
       "   'config': {'name': 'dense_137',\n",
       "    'trainable': True,\n",
       "    'dtype': 'float32',\n",
       "    'units': 10,\n",
       "    'activation': 'sigmoid',\n",
       "    'use_bias': True,\n",
       "    'kernel_initializer': {'class_name': 'GlorotUniform',\n",
       "     'config': {'seed': None}},\n",
       "    'bias_initializer': {'class_name': 'Zeros', 'config': {}},\n",
       "    'kernel_regularizer': None,\n",
       "    'bias_regularizer': None,\n",
       "    'activity_regularizer': None,\n",
       "    'kernel_constraint': None,\n",
       "    'bias_constraint': None}}]}"
      ]
     },
     "execution_count": 157,
     "metadata": {},
     "output_type": "execute_result"
    }
   ],
   "source": [
    "model_best.get_config()"
   ]
  },
  {
   "cell_type": "code",
   "execution_count": 158,
   "metadata": {},
   "outputs": [
    {
     "name": "stdout",
     "output_type": "stream",
     "text": [
      "1000/1000 [==============================] - 1s 1ms/step - loss: 64.8598 - accuracy: 0.8630\n"
     ]
    },
    {
     "data": {
      "text/plain": [
       "(64.85977172851562, 0.8629999756813049)"
      ]
     },
     "execution_count": 158,
     "metadata": {},
     "output_type": "execute_result"
    }
   ],
   "source": [
    "loss, metric = model_best.evaluate(X_test, y_test, batch_size=10)\n",
    "loss, metric"
   ]
  },
  {
   "cell_type": "markdown",
   "metadata": {},
   "source": [
    "Сделаем предсказания модели model_best"
   ]
  },
  {
   "cell_type": "code",
   "execution_count": 159,
   "metadata": {},
   "outputs": [
    {
     "data": {
      "text/plain": [
       "((10000, 10),\n",
       " array([[0., 0., 0., ..., 1., 0., 1.],\n",
       "        [1., 0., 1., ..., 0., 0., 0.],\n",
       "        [0., 1., 0., ..., 0., 0., 0.],\n",
       "        ...,\n",
       "        [0., 0., 0., ..., 0., 1., 0.],\n",
       "        [0., 1., 0., ..., 0., 0., 0.],\n",
       "        [0., 0., 0., ..., 0., 0., 0.]], dtype=float32))"
      ]
     },
     "execution_count": 159,
     "metadata": {},
     "output_type": "execute_result"
    }
   ],
   "source": [
    "#предсказания для всех тестовых данных\n",
    "predictions = model_best.predict(X_test)\n",
    "predictions.shape, predictions"
   ]
  },
  {
   "cell_type": "code",
   "execution_count": 160,
   "metadata": {},
   "outputs": [
    {
     "data": {
      "text/plain": [
       "array([7, 0, 1, ..., 8, 1, 5], dtype=int64)"
      ]
     },
     "execution_count": 160,
     "metadata": {},
     "output_type": "execute_result"
    }
   ],
   "source": [
    "#предсказания классов для всех тестовых данных\n",
    "pred_labels = np.argmax(predictions, axis=1)\n",
    "pred_labels"
   ]
  },
  {
   "cell_type": "code",
   "execution_count": 161,
   "metadata": {},
   "outputs": [
    {
     "data": {
      "text/plain": [
       "array([9, 2, 1, ..., 8, 1, 5], dtype=uint8)"
      ]
     },
     "execution_count": 161,
     "metadata": {},
     "output_type": "execute_result"
    }
   ],
   "source": [
    "#действительные тестовые классы\n",
    "y_test_labels"
   ]
  },
  {
   "cell_type": "markdown",
   "metadata": {},
   "source": [
    "Составим матрицу ошибок модели model_best"
   ]
  },
  {
   "cell_type": "code",
   "execution_count": 162,
   "metadata": {},
   "outputs": [
    {
     "name": "stdout",
     "output_type": "stream",
     "text": [
      "Матрица ошибок\n",
      "[[970  12   3  10   1   0   1   0   3   0]\n",
      " [ 18 977   0   4   0   0   1   0   0   0]\n",
      " [407  40 536   9   6   0   2   0   0   0]\n",
      " [192 130  11 663   2   0   0   0   2   0]\n",
      " [ 79  57 682 152  30   0   0   0   0   0]\n",
      " [  4   1   0   0   0 975   0  10   1   9]\n",
      " [522  19 369  28  59   0   2   0   1   0]\n",
      " [  0   0   0   0   0 280   0 718   0   2]\n",
      " [ 85  10  16   1  26   3  54   8 797   0]\n",
      " [  2   0   0   0   0 165   0 731   0 102]]\n"
     ]
    }
   ],
   "source": [
    "#Матрица ошибок\n",
    "conf_matrix = confusion_matrix(y_test_labels, pred_labels, labels = [0,1,2,3,4,5,6,7,8,9])\n",
    "print('Матрица ошибок')\n",
    "print(conf_matrix)"
   ]
  },
  {
   "cell_type": "code",
   "execution_count": 163,
   "metadata": {},
   "outputs": [
    {
     "data": {
      "image/png": "[encoded data removed]",
      "text/plain": [
       "<Figure size 576x432 with 2 Axes>"
      ]
     },
     "metadata": {
      "needs_background": "light"
     },
     "output_type": "display_data"
    }
   ],
   "source": [
    "#визуализация матрицы ошибок\n",
    "plt.figure(figsize=(8, 6))\n",
    "ax = plt.subplot()\n",
    "sns.heatmap(conf_matrix, annot=True, fmt='g', ax=ax)\n",
    "ax.set_xlabel('Predicted labels')\n",
    "ax.set_ylabel('True labels')\n",
    "ax.set_title('Confusion Matrix')\n",
    "plt.show()"
   ]
  },
  {
   "cell_type": "code",
   "execution_count": 164,
   "metadata": {},
   "outputs": [
    {
     "name": "stdout",
     "output_type": "stream",
     "text": [
      "Матрица ошибок для мультиклассовой классификации\n",
      "[[[7691 1309]\n",
      "  [  30  970]]\n",
      "\n",
      " [[8731  269]\n",
      "  [  23  977]]\n",
      "\n",
      " [[7919 1081]\n",
      "  [ 464  536]]\n",
      "\n",
      " [[8796  204]\n",
      "  [ 337  663]]\n",
      "\n",
      " [[8906   94]\n",
      "  [ 970   30]]\n",
      "\n",
      " [[8552  448]\n",
      "  [  25  975]]\n",
      "\n",
      " [[8942   58]\n",
      "  [ 998    2]]\n",
      "\n",
      " [[8251  749]\n",
      "  [ 282  718]]\n",
      "\n",
      " [[8993    7]\n",
      "  [ 203  797]]\n",
      "\n",
      " [[8989   11]\n",
      "  [ 898  102]]]\n"
     ]
    }
   ],
   "source": [
    "#Мультиклассовая матрица ошибок\n",
    "multi_conf_matrix = multilabel_confusion_matrix(y_test_labels, pred_labels, labels = [0,1,2,3,4,5,6,7,8,9])\n",
    "print('Матрица ошибок для мультиклассовой классификации')\n",
    "print(multi_conf_matrix)"
   ]
  },
  {
   "cell_type": "code",
   "execution_count": 165,
   "metadata": {},
   "outputs": [
    {
     "data": {
      "image/png": "[encoded data removed]",
      "text/plain": [
       "<Figure size 576x720 with 20 Axes>"
      ]
     },
     "metadata": {
      "needs_background": "light"
     },
     "output_type": "display_data"
    }
   ],
   "source": [
    "#визуализация матриц ошибок для каждого класса\n",
    "fig, axes = plt.subplots(5, 2)\n",
    "fig.set_size_inches(8, 10)\n",
    "for i in range(10):\n",
    "    sns.heatmap(multi_conf_matrix[i], annot=True, fmt='g', ax=axes[i//2][i%2])\n",
    "    axes[i//2][i%2].set_xlabel('Predicted labels')\n",
    "    axes[i//2][i%2].set_ylabel('True labels')\n",
    "    axes[i//2][i%2].set_title(f'Confusion Matrix for class {i}')\n",
    "    \n",
    "plt.tight_layout()"
   ]
  },
  {
   "cell_type": "markdown",
   "metadata": {},
   "source": [
    "Оценим качество модели по каждому классу отдельно "
   ]
  },
  {
   "cell_type": "code",
   "execution_count": 168,
   "metadata": {},
   "outputs": [
    {
     "name": "stdout",
     "output_type": "stream",
     "text": [
      "Classification report for model_best:\n",
      "              precision    recall  f1-score   support\n",
      "\n",
      "           0       0.43      0.97      0.59      1000\n",
      "           1       0.78      0.98      0.87      1000\n",
      "           2       0.33      0.54      0.41      1000\n",
      "           3       0.76      0.66      0.71      1000\n",
      "           4       0.24      0.03      0.05      1000\n",
      "           5       0.69      0.97      0.80      1000\n",
      "           6       0.03      0.00      0.00      1000\n",
      "           7       0.49      0.72      0.58      1000\n",
      "           8       0.99      0.80      0.88      1000\n",
      "           9       0.90      0.10      0.18      1000\n",
      "\n",
      "    accuracy                           0.58     10000\n",
      "   macro avg       0.56      0.58      0.51     10000\n",
      "weighted avg       0.56      0.58      0.51     10000\n",
      "\n",
      "\n"
     ]
    }
   ],
   "source": [
    "print(f\"Classification report for model_best:\\n\"\n",
    "    f\"{classification_report(y_test_labels, pred_labels, labels=[0,1,2,3,4,5,6,7,8,9])}\\n\")"
   ]
  },
  {
   "cell_type": "markdown",
   "metadata": {},
   "source": [
    "**Вывод:** лучше всего модель справляется с распознаванием объектов 8-го класса (сумки), хуже всего -- объектов 6-го класса (рубашки)."
   ]
  }
 ],
 "metadata": {
  "kernelspec": {
   "display_name": "Python 3",
   "language": "python",
   "name": "python3"
  },
  "language_info": {
   "codemirror_mode": {
    "name": "ipython",
    "version": 3
   },
   "file_extension": ".py",
   "mimetype": "text/x-python",
   "name": "python",
   "nbconvert_exporter": "python",
   "pygments_lexer": "ipython3",
   "version": "3.8.5"
  }
 },
 "nbformat": 4,
 "nbformat_minor": 4
}
